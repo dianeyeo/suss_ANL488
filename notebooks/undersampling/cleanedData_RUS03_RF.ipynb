{
 "cells": [
  {
   "cell_type": "code",
   "execution_count": 1,
   "metadata": {},
   "outputs": [],
   "source": [
    "import pandas as pd\n",
    "import numpy as np\n",
    "from sklearn.model_selection import train_test_split\n",
    "from sklearn.metrics import confusion_matrix, classification_report, recall_score\n",
    "from imblearn.under_sampling import RandomUnderSampler\n",
    "from sklearn.ensemble import RandomForestClassifier\n",
    "import matplotlib.pyplot as plt"
   ]
  },
  {
   "cell_type": "code",
   "execution_count": 2,
   "metadata": {},
   "outputs": [],
   "source": [
    "strokeData = pd.read_csv(\"..\\..\\data\\cleaned\\cleanedDataset.csv\")\n",
    "X = strokeData.drop(columns='stroke', axis=1)\n",
    "y = strokeData['stroke']"
   ]
  },
  {
   "cell_type": "code",
   "execution_count": 3,
   "metadata": {},
   "outputs": [],
   "source": [
    "def rf_RUS70():\n",
    "    # splitting 70-30\n",
    "    X_train, X_test, y_train, y_test = train_test_split(X, y, test_size=0.3, random_state=42, stratify=y)\n",
    "\n",
    "    # undersampling majority class\n",
    "    undersample = RandomUnderSampler(sampling_strategy='majority')\n",
    "    X_undersample, y_undersample = undersample.fit_resample(X_train, y_train)\n",
    "    # checking undersampled counts\n",
    "    print(y_undersample.value_counts())\n",
    "    # checking testing counts\n",
    "    print(y_test.value_counts())\n",
    "\n",
    "    # create Classifier for Random Forest\n",
    "    rf = RandomForestClassifier()\n",
    "\n",
    "    # fit kNN into undersampled training set\n",
    "    rf.fit(X_undersample, y_undersample)\n",
    "\n",
    "    # predict labels of undersampled test dataset\n",
    "    y_pred = rf.predict(X_test)\n",
    "\n",
    "    # compute and print undersampled confusion matrix\n",
    "    print(confusion_matrix(y_test, y_pred))\n",
    "    # compute and print undersampled classification report\n",
    "    print(classification_report(y_test, y_pred, target_names=['noStroke', 'stroke']))\n",
    "\n",
    "    # print recall rate (metric we are looking at)\n",
    "    recall = recall_score(y_test, y_pred)\n",
    "    print(recall)\n",
    "    print(f'Random Forest Undersampling Recall Rate: {recall*100:.2f}%')"
   ]
  },
  {
   "cell_type": "code",
   "execution_count": 4,
   "metadata": {},
   "outputs": [
    {
     "name": "stdout",
     "output_type": "stream",
     "text": [
      "1    174\n",
      "0    174\n",
      "Name: stroke, dtype: int64\n",
      "0    1458\n",
      "1      75\n",
      "Name: stroke, dtype: int64\n",
      "[[993 465]\n",
      " [ 15  60]]\n",
      "              precision    recall  f1-score   support\n",
      "\n",
      "    noStroke       0.99      0.68      0.81      1458\n",
      "      stroke       0.11      0.80      0.20        75\n",
      "\n",
      "    accuracy                           0.69      1533\n",
      "   macro avg       0.55      0.74      0.50      1533\n",
      "weighted avg       0.94      0.69      0.78      1533\n",
      "\n",
      "0.8\n",
      "Random Forest Undersampling Recall Rate: 80.00%\n"
     ]
    }
   ],
   "source": [
    "rf_RUS70()"
   ]
  },
  {
   "cell_type": "raw",
   "metadata": {},
   "source": []
  },
  {
   "cell_type": "code",
   "execution_count": 5,
   "metadata": {},
   "outputs": [],
   "source": [
    "def rf_RUS80():\n",
    "    # splitting 80-20\n",
    "    X_train, X_test, y_train, y_test = train_test_split(X, y, test_size=0.2, random_state=42, stratify=y)\n",
    "\n",
    "    # undersampling majority class\n",
    "    undersample = RandomUnderSampler(sampling_strategy='majority')\n",
    "    X_undersample, y_undersample = undersample.fit_resample(X_train, y_train)\n",
    "    # checking undersampled counts\n",
    "    print(y_undersample.value_counts())\n",
    "    # checking testing counts\n",
    "    print(y_test.value_counts())\n",
    "\n",
    "    # create Classifier for Random Forest\n",
    "    rf = RandomForestClassifier()\n",
    "\n",
    "    # fit kNN into undersampled training set\n",
    "    rf.fit(X_undersample, y_undersample)\n",
    "\n",
    "    # predict labels of undersampled test dataset\n",
    "    y_pred = rf.predict(X_test)\n",
    "\n",
    "    # compute and print undersampled confusion matrix\n",
    "    print(confusion_matrix(y_test, y_pred))\n",
    "    # compute and print undersampled classification report\n",
    "    print(classification_report(y_test, y_pred, target_names=['noStroke', 'stroke']))\n",
    "\n",
    "    # print recall rate (metric we are looking at)\n",
    "    recall = recall_score(y_test, y_pred)\n",
    "    print(recall)\n",
    "    print(f'Random Forest Undersampling Recall Rate: {recall*100:.2f}%')"
   ]
  },
  {
   "cell_type": "code",
   "execution_count": 6,
   "metadata": {},
   "outputs": [
    {
     "name": "stdout",
     "output_type": "stream",
     "text": [
      "1    199\n",
      "0    199\n",
      "Name: stroke, dtype: int64\n",
      "0    972\n",
      "1     50\n",
      "Name: stroke, dtype: int64\n",
      "[[719 253]\n",
      " [ 12  38]]\n",
      "              precision    recall  f1-score   support\n",
      "\n",
      "    noStroke       0.98      0.74      0.84       972\n",
      "      stroke       0.13      0.76      0.22        50\n",
      "\n",
      "    accuracy                           0.74      1022\n",
      "   macro avg       0.56      0.75      0.53      1022\n",
      "weighted avg       0.94      0.74      0.81      1022\n",
      "\n",
      "0.76\n",
      "Random Forest Undersampling Recall Rate: 76.00%\n"
     ]
    }
   ],
   "source": [
    "rf_RUS80()"
   ]
  },
  {
   "cell_type": "raw",
   "metadata": {},
   "source": []
  },
  {
   "cell_type": "code",
   "execution_count": 7,
   "metadata": {},
   "outputs": [],
   "source": [
    "def rf_RUS90():\n",
    "    # splitting 90-10\n",
    "    X_train, X_test, y_train, y_test = train_test_split(X, y, test_size=0.1, random_state=42, stratify=y)\n",
    "\n",
    "    # undersampling majority class\n",
    "    undersample = RandomUnderSampler(sampling_strategy='majority')\n",
    "    X_undersample, y_undersample = undersample.fit_resample(X_train, y_train)\n",
    "    # checking undersampled counts\n",
    "    print(y_undersample.value_counts())\n",
    "    # checking testing counts\n",
    "    print(y_test.value_counts())\n",
    "\n",
    "    # create Classifier for Random Forest\n",
    "    rf = RandomForestClassifier()\n",
    "\n",
    "    # fit kNN into undersampled training set\n",
    "    rf.fit(X_undersample, y_undersample)\n",
    "\n",
    "    # predict labels of undersampled test dataset\n",
    "    y_pred = rf.predict(X_test)\n",
    "\n",
    "    # compute and print undersampled confusion matrix\n",
    "    print(confusion_matrix(y_test, y_pred))\n",
    "    # compute and print undersampled classification report\n",
    "    print(classification_report(y_test, y_pred, target_names=['noStroke', 'stroke']))\n",
    "\n",
    "    # print recall rate (metric we are looking at)\n",
    "    recall = recall_score(y_test, y_pred)\n",
    "    print(recall)\n",
    "    print(f'Random Forest Undersampling Recall Rate: {recall*100:.2f}%')"
   ]
  },
  {
   "cell_type": "code",
   "execution_count": 8,
   "metadata": {},
   "outputs": [
    {
     "name": "stdout",
     "output_type": "stream",
     "text": [
      "1    224\n",
      "0    224\n",
      "Name: stroke, dtype: int64\n",
      "0    486\n",
      "1     25\n",
      "Name: stroke, dtype: int64\n",
      "[[350 136]\n",
      " [  8  17]]\n",
      "              precision    recall  f1-score   support\n",
      "\n",
      "    noStroke       0.98      0.72      0.83       486\n",
      "      stroke       0.11      0.68      0.19        25\n",
      "\n",
      "    accuracy                           0.72       511\n",
      "   macro avg       0.54      0.70      0.51       511\n",
      "weighted avg       0.94      0.72      0.80       511\n",
      "\n",
      "0.68\n",
      "Random Forest Undersampling Recall Rate: 68.00%\n"
     ]
    }
   ],
   "source": [
    "rf_RUS90()"
   ]
  },
  {
   "cell_type": "raw",
   "metadata": {},
   "source": []
  },
  {
   "cell_type": "raw",
   "metadata": {},
   "source": []
  },
  {
   "cell_type": "code",
   "execution_count": 29,
   "metadata": {},
   "outputs": [],
   "source": [
    "def rf_RUS802():\n",
    "    # splitting 80-20\n",
    "    X_train, X_test, y_train, y_test = train_test_split(X, y, test_size=0.2, random_state=42, stratify=y)\n",
    "\n",
    "    # undersampling majority class\n",
    "    undersample = RandomUnderSampler(sampling_strategy='majority')\n",
    "    X_undersample, y_undersample = undersample.fit_resample(X_train, y_train)\n",
    "    # checking undersampled counts\n",
    "    print(y_undersample.value_counts())\n",
    "    # checking testing counts\n",
    "    print(y_test.value_counts())\n",
    "\n",
    "    # create Classifier for Random Forest\n",
    "    rf = RandomForestClassifier()\n",
    "\n",
    "    # fit kNN into undersampled training set\n",
    "    rf.fit(X_undersample, y_undersample)\n",
    "\n",
    "    # predict labels of undersampled test dataset\n",
    "    y_pred = rf.predict(X_test)\n",
    "\n",
    "    # compute and print undersampled confusion matrix\n",
    "    print(confusion_matrix(y_test, y_pred))\n",
    "    # compute and print undersampled classification report\n",
    "    print(classification_report(y_test, y_pred, target_names=['noStroke', 'stroke']))\n",
    "\n",
    "    # print recall rate (metric we are looking at)\n",
    "    recall = recall_score(y_test, y_pred)\n",
    "    print(recall)\n",
    "    print(f'Random Forest Undersampling Recall Rate: {recall*100:.2f}%')\n",
    "    \n",
    "    # get importance\n",
    "    importance = rf.feature_importances_\n",
    "    # summarize feature importance\n",
    "    for i,v in enumerate(importance):\n",
    "#         print('Feature: %0d, Score: %.5f' % (i+1,v))\n",
    "        print(f\"Feature: {X.columns[i]:<22} Score: {v:.5f}\")\n",
    "    # plot feature importance\n",
    "#     plt.bar([x for x in range(len(importance))], importance)\n",
    "    plt.bar(X.columns, importance)\n",
    "    plt.xticks(rotation=80)\n",
    "    plt.show()"
   ]
  },
  {
   "cell_type": "code",
   "execution_count": 30,
   "metadata": {},
   "outputs": [
    {
     "name": "stdout",
     "output_type": "stream",
     "text": [
      "1    199\n",
      "0    199\n",
      "Name: stroke, dtype: int64\n",
      "0    972\n",
      "1     50\n",
      "Name: stroke, dtype: int64\n",
      "[[675 297]\n",
      " [ 14  36]]\n",
      "              precision    recall  f1-score   support\n",
      "\n",
      "    noStroke       0.98      0.69      0.81       972\n",
      "      stroke       0.11      0.72      0.19        50\n",
      "\n",
      "    accuracy                           0.70      1022\n",
      "   macro avg       0.54      0.71      0.50      1022\n",
      "weighted avg       0.94      0.70      0.78      1022\n",
      "\n",
      "0.72\n",
      "Random Forest Undersampling Recall Rate: 72.00%\n",
      "Feature: age                    Score: 0.33917\n",
      "Feature: hypertension           Score: 0.04382\n",
      "Feature: heart_disease          Score: 0.02307\n",
      "Feature: avg_glucose_level      Score: 0.16630\n",
      "Feature: bmi                    Score: 0.16943\n",
      "Feature: gender_Female          Score: 0.01901\n",
      "Feature: gender_Male            Score: 0.01862\n",
      "Feature: married_No             Score: 0.02136\n",
      "Feature: married_Yes            Score: 0.02004\n",
      "Feature: work_Govt_job          Score: 0.01355\n",
      "Feature: work_Never_worked      Score: 0.00022\n",
      "Feature: work_Private           Score: 0.01806\n",
      "Feature: work_Self-employed     Score: 0.02288\n",
      "Feature: work_children          Score: 0.01589\n",
      "Feature: residence_Rural        Score: 0.01734\n",
      "Feature: residence_Urban        Score: 0.01735\n",
      "Feature: smoke_Unknown          Score: 0.01829\n",
      "Feature: smoke_formerly smoked  Score: 0.02036\n",
      "Feature: smoke_never smoked     Score: 0.01940\n",
      "Feature: smoke_smokes           Score: 0.01584\n"
     ]
    },
    {
     "data": {
      "image/png": "[encoded data removed]",
      "text/plain": [
       "<Figure size 432x288 with 1 Axes>"
      ]
     },
     "metadata": {
      "needs_background": "light"
     },
     "output_type": "display_data"
    }
   ],
   "source": [
    "rf_RUS802()"
   ]
  },
  {
   "cell_type": "code",
   "execution_count": null,
   "metadata": {},
   "outputs": [],
   "source": []
  }
 ],
 "metadata": {
  "kernelspec": {
   "display_name": "Python 3",
   "language": "python",
   "name": "python3"
  },
  "language_info": {
   "codemirror_mode": {
    "name": "ipython",
    "version": 3
   },
   "file_extension": ".py",
   "mimetype": "text/x-python",
   "name": "python",
   "nbconvert_exporter": "python",
   "pygments_lexer": "ipython3",
   "version": "3.8.5"
  }
 },
 "nbformat": 4,
 "nbformat_minor": 4
}
