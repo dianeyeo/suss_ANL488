{
 "cells": [
  {
   "cell_type": "code",
   "execution_count": 1,
   "metadata": {},
   "outputs": [],
   "source": [
    "import pandas as pd\n",
    "import numpy as np\n",
    "from sklearn.model_selection import train_test_split\n",
    "from sklearn.metrics import confusion_matrix, classification_report, recall_score\n",
    "from imblearn.under_sampling import RandomUnderSampler\n",
    "from sklearn.svm import SVC"
   ]
  },
  {
   "cell_type": "code",
   "execution_count": 2,
   "metadata": {},
   "outputs": [],
   "source": [
    "strokeData = pd.read_csv(\"..\\..\\data\\cleaned\\cleanedDataset.csv\")\n",
    "X = strokeData.drop(columns='stroke', axis=1)\n",
    "y = strokeData['stroke']"
   ]
  },
  {
   "cell_type": "code",
   "execution_count": 3,
   "metadata": {},
   "outputs": [],
   "source": [
    "def svm_RUS70():\n",
    "    # splitting 70-30\n",
    "    X_train, X_test, y_train, y_test = train_test_split(X, y, test_size=0.3, random_state=42, stratify=y)\n",
    "\n",
    "    # undersampling majority class\n",
    "    undersample = RandomUnderSampler(sampling_strategy='majority')\n",
    "    X_undersample, y_undersample = undersample.fit_resample(X_train, y_train)\n",
    "    # checking undersampled counts\n",
    "    print(y_undersample.value_counts())\n",
    "    # checking testing counts\n",
    "    print(y_test.value_counts())\n",
    "\n",
    "    # create Classifier for Support Vector Machine\n",
    "    svm = SVC(kernel='linear')\n",
    "\n",
    "    # fit svm into undersampled training set\n",
    "    svm.fit(X_undersample, y_undersample)\n",
    "\n",
    "    # predict labels of undersampled test dataset\n",
    "    y_pred = svm.predict(X_test)\n",
    "\n",
    "    # compute and print undersampled confusion matrix\n",
    "    print(confusion_matrix(y_test, y_pred))\n",
    "    # compute and print undersampled classification report\n",
    "    print(classification_report(y_test, y_pred, target_names=['noStroke', 'stroke']))\n",
    "\n",
    "    # print recall rate (metric we are looking at)\n",
    "    recall = recall_score(y_test, y_pred)\n",
    "    print(recall)\n",
    "    print(f'Support Vector Machine Undersampling Recall Rate: {recall*100:.2f}%')"
   ]
  },
  {
   "cell_type": "code",
   "execution_count": 4,
   "metadata": {},
   "outputs": [
    {
     "name": "stdout",
     "output_type": "stream",
     "text": [
      "1    174\n",
      "0    174\n",
      "Name: stroke, dtype: int64\n",
      "0    1458\n",
      "1      75\n",
      "Name: stroke, dtype: int64\n",
      "[[1034  424]\n",
      " [  14   61]]\n",
      "              precision    recall  f1-score   support\n",
      "\n",
      "    noStroke       0.99      0.71      0.83      1458\n",
      "      stroke       0.13      0.81      0.22        75\n",
      "\n",
      "    accuracy                           0.71      1533\n",
      "   macro avg       0.56      0.76      0.52      1533\n",
      "weighted avg       0.94      0.71      0.80      1533\n",
      "\n",
      "0.8133333333333334\n",
      "Support Vector Machine Undersampling Recall Rate: 81.33%\n"
     ]
    }
   ],
   "source": [
    "svm_RUS70()"
   ]
  },
  {
   "cell_type": "raw",
   "metadata": {},
   "source": []
  },
  {
   "cell_type": "code",
   "execution_count": 5,
   "metadata": {},
   "outputs": [],
   "source": [
    "def svm_RUS80():\n",
    "    # splitting 80-20\n",
    "    X_train, X_test, y_train, y_test = train_test_split(X, y, test_size=0.2, random_state=42, stratify=y)\n",
    "\n",
    "    # undersampling majority class\n",
    "    undersample = RandomUnderSampler(sampling_strategy='majority')\n",
    "    X_undersample, y_undersample = undersample.fit_resample(X_train, y_train)\n",
    "    # checking undersampled counts\n",
    "    print(y_undersample.value_counts())\n",
    "    # checking testing counts\n",
    "    print(y_test.value_counts())\n",
    "\n",
    "    # create Classifier for Support Vector Machine\n",
    "    svm = SVC(kernel='linear')\n",
    "\n",
    "    # fit svm into undersampled training set\n",
    "    svm.fit(X_undersample, y_undersample)\n",
    "\n",
    "    # predict labels of undersampled test dataset\n",
    "    y_pred = svm.predict(X_test)\n",
    "\n",
    "    # compute and print undersampled confusion matrix\n",
    "    print(confusion_matrix(y_test, y_pred))\n",
    "    # compute and print undersampled classification report\n",
    "    print(classification_report(y_test, y_pred, target_names=['noStroke', 'stroke']))\n",
    "\n",
    "    # print recall rate (metric we are looking at)\n",
    "    recall = recall_score(y_test, y_pred)\n",
    "    print(recall)\n",
    "    print(f'Support Vector Machine Undersampling Recall Rate: {recall*100:.2f}%')"
   ]
  },
  {
   "cell_type": "code",
   "execution_count": 6,
   "metadata": {},
   "outputs": [
    {
     "name": "stdout",
     "output_type": "stream",
     "text": [
      "1    199\n",
      "0    199\n",
      "Name: stroke, dtype: int64\n",
      "0    972\n",
      "1     50\n",
      "Name: stroke, dtype: int64\n",
      "[[724 248]\n",
      " [  9  41]]\n",
      "              precision    recall  f1-score   support\n",
      "\n",
      "    noStroke       0.99      0.74      0.85       972\n",
      "      stroke       0.14      0.82      0.24        50\n",
      "\n",
      "    accuracy                           0.75      1022\n",
      "   macro avg       0.56      0.78      0.55      1022\n",
      "weighted avg       0.95      0.75      0.82      1022\n",
      "\n",
      "0.82\n",
      "Support Vector Machine Undersampling Recall Rate: 82.00%\n"
     ]
    }
   ],
   "source": [
    "svm_RUS80()"
   ]
  },
  {
   "cell_type": "raw",
   "metadata": {},
   "source": []
  },
  {
   "cell_type": "code",
   "execution_count": 7,
   "metadata": {},
   "outputs": [],
   "source": [
    "def svm_RUS90():\n",
    "    # splitting 90-10\n",
    "    X_train, X_test, y_train, y_test = train_test_split(X, y, test_size=0.1, random_state=42, stratify=y)\n",
    "\n",
    "    # undersampling majority class\n",
    "    undersample = RandomUnderSampler(sampling_strategy='majority')\n",
    "    X_undersample, y_undersample = undersample.fit_resample(X_train, y_train)\n",
    "    # checking undersampled counts\n",
    "    print(y_undersample.value_counts())\n",
    "    # checking testing counts\n",
    "    print(y_test.value_counts())\n",
    "\n",
    "    # create Classifier for Support Vector Machine\n",
    "    svm = SVC(kernel='linear')\n",
    "\n",
    "    # fit svm into undersampled training set\n",
    "    svm.fit(X_undersample, y_undersample)\n",
    "\n",
    "    # predict labels of undersampled test dataset\n",
    "    y_pred = svm.predict(X_test)\n",
    "\n",
    "    # compute and print undersampled confusion matrix\n",
    "    print(confusion_matrix(y_test, y_pred))\n",
    "    # compute and print undersampled classification report\n",
    "    print(classification_report(y_test, y_pred, target_names=['noStroke', 'stroke']))\n",
    "\n",
    "    # print recall rate (metric we are looking at)\n",
    "    recall = recall_score(y_test, y_pred)\n",
    "    print(recall)\n",
    "    print(f'Support Vector Machine Undersampling Recall Rate: {recall*100:.2f}%')"
   ]
  },
  {
   "cell_type": "code",
   "execution_count": 8,
   "metadata": {},
   "outputs": [
    {
     "name": "stdout",
     "output_type": "stream",
     "text": [
      "1    224\n",
      "0    224\n",
      "Name: stroke, dtype: int64\n",
      "0    486\n",
      "1     25\n",
      "Name: stroke, dtype: int64\n",
      "[[360 126]\n",
      " [  6  19]]\n",
      "              precision    recall  f1-score   support\n",
      "\n",
      "    noStroke       0.98      0.74      0.85       486\n",
      "      stroke       0.13      0.76      0.22        25\n",
      "\n",
      "    accuracy                           0.74       511\n",
      "   macro avg       0.56      0.75      0.53       511\n",
      "weighted avg       0.94      0.74      0.81       511\n",
      "\n",
      "0.76\n",
      "Support Vector Machine Undersampling Recall Rate: 76.00%\n"
     ]
    }
   ],
   "source": [
    "svm_RUS90()"
   ]
  },
  {
   "cell_type": "code",
   "execution_count": null,
   "metadata": {},
   "outputs": [],
   "source": []
  }
 ],
 "metadata": {
  "kernelspec": {
   "display_name": "Python 3",
   "language": "python",
   "name": "python3"
  },
  "language_info": {
   "codemirror_mode": {
    "name": "ipython",
    "version": 3
   },
   "file_extension": ".py",
   "mimetype": "text/x-python",
   "name": "python",
   "nbconvert_exporter": "python",
   "pygments_lexer": "ipython3",
   "version": "3.8.5"
  }
 },
 "nbformat": 4,
 "nbformat_minor": 4
}
