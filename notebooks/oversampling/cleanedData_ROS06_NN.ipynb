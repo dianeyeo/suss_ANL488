{
 "cells": [
  {
   "cell_type": "code",
   "execution_count": 1,
   "metadata": {},
   "outputs": [],
   "source": [
    "import pandas as pd\n",
    "import numpy as np\n",
    "from sklearn.model_selection import train_test_split\n",
    "from sklearn.metrics import confusion_matrix, classification_report, recall_score\n",
    "from imblearn.over_sampling import RandomOverSampler, SMOTE\n",
    "from sklearn.neural_network import MLPClassifier"
   ]
  },
  {
   "cell_type": "code",
   "execution_count": 2,
   "metadata": {},
   "outputs": [],
   "source": [
    "strokeData = pd.read_csv(\"..\\..\\data\\cleaned\\cleanedDataset.csv\")\n",
    "X = strokeData.drop(columns='stroke', axis=1)\n",
    "y = strokeData['stroke']"
   ]
  },
  {
   "cell_type": "code",
   "execution_count": 5,
   "metadata": {},
   "outputs": [],
   "source": [
    "def nn_ROS70():\n",
    "    # splitting 70-30\n",
    "    X_train, X_test, y_train, y_test = train_test_split(X, y, test_size=0.3, random_state=42, stratify=y)\n",
    "\n",
    "    # oversampling minority class\n",
    "    oversample = RandomOverSampler(sampling_strategy='minority')\n",
    "    X_oversample, y_oversample = oversample.fit_resample(X_train, y_train)\n",
    "    # checking oversampling counts\n",
    "    print(y_oversample.value_counts())\n",
    "    # checking testing counts\n",
    "    print(y_test.value_counts())\n",
    "\n",
    "    # create Classifier for Neural Networks\n",
    "    nn = MLPClassifier(max_iter=1000)\n",
    "\n",
    "    # fit nn into oversampled training set\n",
    "    nn.fit(X_oversample, y_oversample)\n",
    "\n",
    "    # predict labels of oversampled test dataset\n",
    "    y_pred = nn.predict(X_test)\n",
    "\n",
    "    # compute and print oversampled confusion matrix\n",
    "    print(confusion_matrix(y_test, y_pred))\n",
    "    # compute and print oversampled classification report\n",
    "    print(classification_report(y_test, y_pred, target_names=['noStroke', 'stroke']))\n",
    "\n",
    "    # print recall rate (metric we are looking at)\n",
    "    recall = recall_score(y_test, y_pred)\n",
    "    print(recall)\n",
    "    print(f'Neural Networks Oversampling Recall Rate: {recall*100:.2f}%')"
   ]
  },
  {
   "cell_type": "code",
   "execution_count": 6,
   "metadata": {},
   "outputs": [
    {
     "name": "stdout",
     "output_type": "stream",
     "text": [
      "1    3403\n",
      "0    3403\n",
      "Name: stroke, dtype: int64\n",
      "0    1458\n",
      "1      75\n",
      "Name: stroke, dtype: int64\n",
      "[[975 483]\n",
      " [ 20  55]]\n",
      "              precision    recall  f1-score   support\n",
      "\n",
      "    noStroke       0.98      0.67      0.79      1458\n",
      "      stroke       0.10      0.73      0.18        75\n",
      "\n",
      "    accuracy                           0.67      1533\n",
      "   macro avg       0.54      0.70      0.49      1533\n",
      "weighted avg       0.94      0.67      0.76      1533\n",
      "\n",
      "0.7333333333333333\n",
      "Neural Networks Oversampling Recall Rate: 73.33%\n"
     ]
    }
   ],
   "source": [
    "nn_ROS70()"
   ]
  },
  {
   "cell_type": "raw",
   "metadata": {},
   "source": []
  },
  {
   "cell_type": "code",
   "execution_count": 11,
   "metadata": {},
   "outputs": [],
   "source": [
    "def nn_ROS80():\n",
    "    # splitting 80-20\n",
    "    X_train, X_test, y_train, y_test = train_test_split(X, y, test_size=0.2, random_state=42, stratify=y)\n",
    "\n",
    "    # oversampling minority class\n",
    "    oversample = RandomOverSampler(sampling_strategy='minority')\n",
    "    X_oversample, y_oversample = oversample.fit_resample(X_train, y_train)\n",
    "    # checking oversampling counts\n",
    "    print(y_oversample.value_counts())\n",
    "    # checking testing counts\n",
    "    print(y_test.value_counts())\n",
    "\n",
    "    # create Classifier for Neural Networks\n",
    "    nn = MLPClassifier(max_iter=1000)\n",
    "\n",
    "    # fit nn into oversampled training set\n",
    "    nn.fit(X_oversample, y_oversample)\n",
    "\n",
    "    # predict labels of oversampled test dataset\n",
    "    y_pred = nn.predict(X_test)\n",
    "\n",
    "    # compute and print oversampled confusion matrix\n",
    "    print(confusion_matrix(y_test, y_pred))\n",
    "    # compute and print oversampled classification report\n",
    "    print(classification_report(y_test, y_pred, target_names=['noStroke', 'stroke']))\n",
    "\n",
    "    # print recall rate (metric we are looking at)\n",
    "    recall = recall_score(y_test, y_pred)\n",
    "    print(recall)\n",
    "    print(f'Neural Networks Oversampling Recall Rate: {recall*100:.2f}%')"
   ]
  },
  {
   "cell_type": "code",
   "execution_count": 10,
   "metadata": {},
   "outputs": [
    {
     "name": "stdout",
     "output_type": "stream",
     "text": [
      "1    3889\n",
      "0    3889\n",
      "Name: stroke, dtype: int64\n",
      "0    972\n",
      "1     50\n",
      "Name: stroke, dtype: int64\n",
      "[[751 221]\n",
      " [ 12  38]]\n",
      "              precision    recall  f1-score   support\n",
      "\n",
      "    noStroke       0.98      0.77      0.87       972\n",
      "      stroke       0.15      0.76      0.25        50\n",
      "\n",
      "    accuracy                           0.77      1022\n",
      "   macro avg       0.57      0.77      0.56      1022\n",
      "weighted avg       0.94      0.77      0.84      1022\n",
      "\n",
      "0.76\n",
      "Neural Networks Oversampling Recall Rate: 76.00%\n"
     ]
    }
   ],
   "source": [
    "nn_ROS80()"
   ]
  },
  {
   "cell_type": "raw",
   "metadata": {},
   "source": []
  },
  {
   "cell_type": "code",
   "execution_count": 14,
   "metadata": {},
   "outputs": [],
   "source": [
    "def nn_ROS90():\n",
    "    # splitting 90-10\n",
    "    X_train, X_test, y_train, y_test = train_test_split(X, y, test_size=0.1, random_state=42, stratify=y)\n",
    "\n",
    "    # oversampling minority class\n",
    "    oversample = RandomOverSampler(sampling_strategy='minority')\n",
    "    X_oversample, y_oversample = oversample.fit_resample(X_train, y_train)\n",
    "    # checking oversampling counts\n",
    "    print(y_oversample.value_counts())\n",
    "    # checking testing counts\n",
    "    print(y_test.value_counts())\n",
    "\n",
    "    # create Classifier for Neural Networks\n",
    "    nn = MLPClassifier(max_iter=1000)\n",
    "\n",
    "    # fit nn into oversampled training set\n",
    "    nn.fit(X_oversample, y_oversample)\n",
    "\n",
    "    # predict labels of oversampled test dataset\n",
    "    y_pred = nn.predict(X_test)\n",
    "\n",
    "    # compute and print oversampled confusion matrix\n",
    "    print(confusion_matrix(y_test, y_pred))\n",
    "    # compute and print oversampled classification report\n",
    "    print(classification_report(y_test, y_pred, target_names=['noStroke', 'stroke']))\n",
    "\n",
    "    # print recall rate (metric we are looking at)\n",
    "    recall = recall_score(y_test, y_pred)\n",
    "    print(recall)\n",
    "    print(f'Neural Networks Oversampling Recall Rate: {recall*100:.2f}%')"
   ]
  },
  {
   "cell_type": "code",
   "execution_count": 16,
   "metadata": {},
   "outputs": [
    {
     "name": "stdout",
     "output_type": "stream",
     "text": [
      "1    4375\n",
      "0    4375\n",
      "Name: stroke, dtype: int64\n",
      "0    486\n",
      "1     25\n",
      "Name: stroke, dtype: int64\n",
      "[[388  98]\n",
      " [ 11  14]]\n",
      "              precision    recall  f1-score   support\n",
      "\n",
      "    noStroke       0.97      0.80      0.88       486\n",
      "      stroke       0.12      0.56      0.20        25\n",
      "\n",
      "    accuracy                           0.79       511\n",
      "   macro avg       0.55      0.68      0.54       511\n",
      "weighted avg       0.93      0.79      0.84       511\n",
      "\n",
      "0.56\n",
      "Neural Networks Oversampling Recall Rate: 56.00%\n"
     ]
    }
   ],
   "source": [
    "nn_ROS90()"
   ]
  },
  {
   "cell_type": "code",
   "execution_count": null,
   "metadata": {},
   "outputs": [],
   "source": []
  }
 ],
 "metadata": {
  "kernelspec": {
   "display_name": "Python 3",
   "language": "python",
   "name": "python3"
  },
  "language_info": {
   "codemirror_mode": {
    "name": "ipython",
    "version": 3
   },
   "file_extension": ".py",
   "mimetype": "text/x-python",
   "name": "python",
   "nbconvert_exporter": "python",
   "pygments_lexer": "ipython3",
   "version": "3.8.5"
  }
 },
 "nbformat": 4,
 "nbformat_minor": 4
}
