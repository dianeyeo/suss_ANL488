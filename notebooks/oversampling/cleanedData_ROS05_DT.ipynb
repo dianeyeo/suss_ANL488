{
 "cells": [
  {
   "cell_type": "code",
   "execution_count": 2,
   "metadata": {},
   "outputs": [],
   "source": [
    "import pandas as pd\n",
    "import numpy as np\n",
    "from sklearn.model_selection import train_test_split\n",
    "from sklearn.metrics import confusion_matrix, classification_report, recall_score\n",
    "from imblearn.over_sampling import RandomOverSampler, SMOTE\n",
    "from sklearn.tree import DecisionTreeClassifier"
   ]
  },
  {
   "cell_type": "code",
   "execution_count": 3,
   "metadata": {},
   "outputs": [],
   "source": [
    "strokeData = pd.read_csv(\"..\\..\\data\\cleaned\\cleanedDataset.csv\")\n",
    "X = strokeData.drop(columns='stroke', axis=1)\n",
    "y = strokeData['stroke']"
   ]
  },
  {
   "cell_type": "code",
   "execution_count": null,
   "metadata": {},
   "outputs": [],
   "source": [
    "def dt_ROS70():\n",
    "    # splitting 70-30\n",
    "    X_train, X_test, y_train, y_test = train_test_split(X, y, test_size=0.3, random_state=42, stratify=y)\n",
    "\n",
    "    # oversampling minority class\n",
    "    oversample = RandomOverSampler(sampling_strategy='minority')\n",
    "    X_oversample, y_oversample = oversample.fit_resample(X_train, y_train)\n",
    "    # checking oversampling counts\n",
    "    print(y_oversample.value_counts())\n",
    "    # checking testing counts\n",
    "    print(y_test.value_counts())\n",
    "\n",
    "    # create Classifier for Decision Trees\n",
    "    dt = DecisionTreeClassifier()\n",
    "\n",
    "    # fit dt into oversampled training set\n",
    "    dt.fit(X_oversample, y_oversample)\n",
    "\n",
    "    # predict labels of oversampled test dataset\n",
    "    y_pred = dt.predict(X_test)\n",
    "\n",
    "    # compute and print oversampled confusion matrix\n",
    "    print(confusion_matrix(y_test, y_pred))\n",
    "    # compute and print oversampled classification report\n",
    "    print(classification_report(y_test, y_pred, target_names=['noStroke', 'stroke']))\n",
    "\n",
    "    # print recall rate (metric we are looking at)\n",
    "    recall = recall_score(y_test, y_pred)\n",
    "    print(recall)\n",
    "    print(f'Decision Trees Oversampling Recall Rate: {recall*100:.2f}%')"
   ]
  },
  {
   "cell_type": "code",
   "execution_count": 4,
   "metadata": {},
   "outputs": [
    {
     "name": "stdout",
     "output_type": "stream",
     "text": [
      "1    3403\n",
      "0    3403\n",
      "Name: stroke, dtype: int64\n",
      "0    1458\n",
      "1      75\n",
      "Name: stroke, dtype: int64\n",
      "[[1406   52]\n",
      " [  66    9]]\n",
      "              precision    recall  f1-score   support\n",
      "\n",
      "    noStroke       0.96      0.96      0.96      1458\n",
      "      stroke       0.15      0.12      0.13        75\n",
      "\n",
      "    accuracy                           0.92      1533\n",
      "   macro avg       0.55      0.54      0.55      1533\n",
      "weighted avg       0.92      0.92      0.92      1533\n",
      "\n",
      "0.12\n",
      "Decision Trees Oversampling Recall Rate: 12.00%\n"
     ]
    }
   ],
   "source": [
    "dt_ROS70()"
   ]
  },
  {
   "cell_type": "raw",
   "metadata": {},
   "source": []
  },
  {
   "cell_type": "code",
   "execution_count": 5,
   "metadata": {},
   "outputs": [],
   "source": [
    "def dt_ROS80():\n",
    "    # splitting 80-20\n",
    "    X_train, X_test, y_train, y_test = train_test_split(X, y, test_size=0.2, random_state=42, stratify=y)\n",
    "\n",
    "    # oversampling minority class\n",
    "    oversample = RandomOverSampler(sampling_strategy='minority')\n",
    "    X_oversample, y_oversample = oversample.fit_resample(X_train, y_train)\n",
    "    # checking oversampling counts\n",
    "    print(y_oversample.value_counts())\n",
    "    # checking testing counts\n",
    "    print(y_test.value_counts())\n",
    "\n",
    "    # create Classifier for Decision Trees\n",
    "    dt = DecisionTreeClassifier()\n",
    "\n",
    "    # fit dt into oversampled training set\n",
    "    dt.fit(X_oversample, y_oversample)\n",
    "\n",
    "    # predict labels of oversampled test dataset\n",
    "    y_pred = dt.predict(X_test)\n",
    "\n",
    "    # compute and print oversampled confusion matrix\n",
    "    print(confusion_matrix(y_test, y_pred))\n",
    "    # compute and print oversampled classification report\n",
    "    print(classification_report(y_test, y_pred, target_names=['noStroke', 'stroke']))\n",
    "\n",
    "    # print recall rate (metric we are looking at)\n",
    "    recall = recall_score(y_test, y_pred)\n",
    "    print(recall)\n",
    "    print(f'Decision Trees Oversampling Recall Rate: {recall*100:.2f}%')"
   ]
  },
  {
   "cell_type": "code",
   "execution_count": 6,
   "metadata": {},
   "outputs": [
    {
     "name": "stdout",
     "output_type": "stream",
     "text": [
      "1    3889\n",
      "0    3889\n",
      "Name: stroke, dtype: int64\n",
      "0    972\n",
      "1     50\n",
      "Name: stroke, dtype: int64\n",
      "[[942  30]\n",
      " [ 46   4]]\n",
      "              precision    recall  f1-score   support\n",
      "\n",
      "    noStroke       0.95      0.97      0.96       972\n",
      "      stroke       0.12      0.08      0.10        50\n",
      "\n",
      "    accuracy                           0.93      1022\n",
      "   macro avg       0.54      0.52      0.53      1022\n",
      "weighted avg       0.91      0.93      0.92      1022\n",
      "\n",
      "0.08\n",
      "Decision Trees Oversampling Recall Rate: 8.00%\n"
     ]
    }
   ],
   "source": [
    "dt_ROS80()"
   ]
  },
  {
   "cell_type": "raw",
   "metadata": {},
   "source": []
  },
  {
   "cell_type": "code",
   "execution_count": 7,
   "metadata": {},
   "outputs": [],
   "source": [
    "def dt_ROS90():\n",
    "    # splitting 90-10\n",
    "    X_train, X_test, y_train, y_test = train_test_split(X, y, test_size=0.1, random_state=42, stratify=y)\n",
    "\n",
    "    # oversampling minority class\n",
    "    oversample = RandomOverSampler(sampling_strategy='minority')\n",
    "    X_oversample, y_oversample = oversample.fit_resample(X_train, y_train)\n",
    "    # checking oversampling counts\n",
    "    print(y_oversample.value_counts())\n",
    "    # checking testing counts\n",
    "    print(y_test.value_counts())\n",
    "\n",
    "    # create Classifier for Decision Trees\n",
    "    dt = DecisionTreeClassifier()\n",
    "\n",
    "    # fit dt into oversampled training set\n",
    "    dt.fit(X_oversample, y_oversample)\n",
    "\n",
    "    # predict labels of oversampled test dataset\n",
    "    y_pred = dt.predict(X_test)\n",
    "\n",
    "    # compute and print oversampled confusion matrix\n",
    "    print(confusion_matrix(y_test, y_pred))\n",
    "    # compute and print oversampled classification report\n",
    "    print(classification_report(y_test, y_pred, target_names=['noStroke', 'stroke']))\n",
    "\n",
    "    # print recall rate (metric we are looking at)\n",
    "    recall = recall_score(y_test, y_pred)\n",
    "    print(recall)\n",
    "    print(f'Decision Trees Oversampling Recall Rate: {recall*100:.2f}%')"
   ]
  },
  {
   "cell_type": "code",
   "execution_count": 8,
   "metadata": {},
   "outputs": [
    {
     "name": "stdout",
     "output_type": "stream",
     "text": [
      "1    4375\n",
      "0    4375\n",
      "Name: stroke, dtype: int64\n",
      "0    486\n",
      "1     25\n",
      "Name: stroke, dtype: int64\n",
      "[[475  11]\n",
      " [ 24   1]]\n",
      "              precision    recall  f1-score   support\n",
      "\n",
      "    noStroke       0.95      0.98      0.96       486\n",
      "      stroke       0.08      0.04      0.05        25\n",
      "\n",
      "    accuracy                           0.93       511\n",
      "   macro avg       0.52      0.51      0.51       511\n",
      "weighted avg       0.91      0.93      0.92       511\n",
      "\n",
      "0.04\n",
      "Decision Trees Oversampling Recall Rate: 4.00%\n"
     ]
    }
   ],
   "source": [
    "dt_ROS90()"
   ]
  },
  {
   "cell_type": "code",
   "execution_count": null,
   "metadata": {},
   "outputs": [],
   "source": []
  }
 ],
 "metadata": {
  "kernelspec": {
   "display_name": "Python 3",
   "language": "python",
   "name": "python3"
  },
  "language_info": {
   "codemirror_mode": {
    "name": "ipython",
    "version": 3
   },
   "file_extension": ".py",
   "mimetype": "text/x-python",
   "name": "python",
   "nbconvert_exporter": "python",
   "pygments_lexer": "ipython3",
   "version": "3.8.5"
  }
 },
 "nbformat": 4,
 "nbformat_minor": 4
}
