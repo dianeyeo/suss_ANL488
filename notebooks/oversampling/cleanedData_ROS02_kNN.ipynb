{
 "cells": [
  {
   "cell_type": "code",
   "execution_count": 1,
   "metadata": {},
   "outputs": [],
   "source": [
    "import pandas as pd\n",
    "import numpy as np\n",
    "from sklearn.model_selection import train_test_split, GridSearchCV\n",
    "from sklearn.metrics import confusion_matrix, classification_report, recall_score\n",
    "from imblearn.over_sampling import RandomOverSampler, SMOTE\n",
    "from sklearn.neighbors import KNeighborsClassifier"
   ]
  },
  {
   "cell_type": "code",
   "execution_count": 2,
   "metadata": {},
   "outputs": [],
   "source": [
    "strokeData = pd.read_csv(\"..\\..\\data\\cleaned\\cleanedDataset.csv\")\n",
    "X = strokeData.drop(columns='stroke', axis=1)\n",
    "y = strokeData['stroke']"
   ]
  },
  {
   "cell_type": "code",
   "execution_count": 3,
   "metadata": {},
   "outputs": [],
   "source": [
    "def knn_ROS70():\n",
    "    # splitting 70-30\n",
    "    X_train, X_test, y_train, y_test = train_test_split(X, y, test_size=0.3, random_state=42, stratify=y)\n",
    "\n",
    "    # oversampling minority class\n",
    "    oversample = RandomOverSampler(sampling_strategy='minority')\n",
    "    X_oversample, y_oversample = oversample.fit_resample(X_train, y_train)\n",
    "    # checking oversampling counts\n",
    "    print(y_oversample.value_counts())\n",
    "    # checking testing counts\n",
    "    print(y_test.value_counts())\n",
    "\n",
    "    # create Classifier for K-Nearest Neighbours\n",
    "    knn = KNeighborsClassifier(n_neighbors=60)\n",
    "\n",
    "    # fit kNN into oversampled training set\n",
    "    knn.fit(X_oversample, y_oversample)\n",
    "\n",
    "    # predict labels of oversampled test dataset\n",
    "    y_pred = knn.predict(X_test)\n",
    "\n",
    "    # compute and print oversampled confusion matrix\n",
    "    print(confusion_matrix(y_test, y_pred))\n",
    "    # compute and print oversampled classification report\n",
    "    print(classification_report(y_test, y_pred, target_names=['noStroke', 'stroke']))\n",
    "\n",
    "    # print recall rate (metric we are looking at)\n",
    "    recall = recall_score(y_test, y_pred)\n",
    "    print(recall)\n",
    "    print(f'K-Nearest Neighbours Oversampling Recall Rate: {recall*100:.2f}%')"
   ]
  },
  {
   "cell_type": "code",
   "execution_count": 4,
   "metadata": {},
   "outputs": [
    {
     "name": "stdout",
     "output_type": "stream",
     "text": [
      "1    3403\n",
      "0    3403\n",
      "Name: stroke, dtype: int64\n",
      "0    1458\n",
      "1      75\n",
      "Name: stroke, dtype: int64\n",
      "[[990 468]\n",
      " [ 18  57]]\n",
      "              precision    recall  f1-score   support\n",
      "\n",
      "    noStroke       0.98      0.68      0.80      1458\n",
      "      stroke       0.11      0.76      0.19        75\n",
      "\n",
      "    accuracy                           0.68      1533\n",
      "   macro avg       0.55      0.72      0.50      1533\n",
      "weighted avg       0.94      0.68      0.77      1533\n",
      "\n",
      "0.76\n",
      "K-Nearest Neighbours Oversampling Recall Rate: 76.00%\n"
     ]
    }
   ],
   "source": [
    "knn_ROS70()"
   ]
  },
  {
   "cell_type": "raw",
   "metadata": {},
   "source": []
  },
  {
   "cell_type": "code",
   "execution_count": 5,
   "metadata": {},
   "outputs": [],
   "source": [
    "def knn_ROS80():\n",
    "    # splitting 80-20\n",
    "    X_train, X_test, y_train, y_test = train_test_split(X, y, test_size=0.2, random_state=42, stratify=y)\n",
    "\n",
    "    # oversampling minority class\n",
    "    oversample = RandomOverSampler(sampling_strategy='minority')\n",
    "    X_oversample, y_oversample = oversample.fit_resample(X_train, y_train)\n",
    "    # checking oversampling counts\n",
    "    print(y_oversample.value_counts())\n",
    "    # checking testing counts\n",
    "    print(y_test.value_counts())\n",
    "\n",
    "    # create Classifier for K-Nearest Neighbours\n",
    "    knn = KNeighborsClassifier(n_neighbors=60)\n",
    "\n",
    "    # fit kNN into oversampled training set\n",
    "    knn.fit(X_oversample, y_oversample)\n",
    "\n",
    "    # predict labels of oversampled test dataset\n",
    "    y_pred = knn.predict(X_test)\n",
    "\n",
    "    # compute and print oversampled confusion matrix\n",
    "    print(confusion_matrix(y_test, y_pred))\n",
    "    # compute and print oversampled classification report\n",
    "    print(classification_report(y_test, y_pred, target_names=['noStroke', 'stroke']))\n",
    "\n",
    "    # print recall rate (metric we are looking at)\n",
    "    recall = recall_score(y_test, y_pred)\n",
    "    print(recall)\n",
    "    print(f'K-Nearest Neighbours Oversampling Recall Rate: {recall*100:.2f}%')"
   ]
  },
  {
   "cell_type": "code",
   "execution_count": 6,
   "metadata": {},
   "outputs": [
    {
     "name": "stdout",
     "output_type": "stream",
     "text": [
      "1    3889\n",
      "0    3889\n",
      "Name: stroke, dtype: int64\n",
      "0    972\n",
      "1     50\n",
      "Name: stroke, dtype: int64\n",
      "[[672 300]\n",
      " [ 12  38]]\n",
      "              precision    recall  f1-score   support\n",
      "\n",
      "    noStroke       0.98      0.69      0.81       972\n",
      "      stroke       0.11      0.76      0.20        50\n",
      "\n",
      "    accuracy                           0.69      1022\n",
      "   macro avg       0.55      0.73      0.50      1022\n",
      "weighted avg       0.94      0.69      0.78      1022\n",
      "\n",
      "0.76\n",
      "K-Nearest Neighbours Oversampling Recall Rate: 76.00%\n"
     ]
    }
   ],
   "source": [
    "knn_ROS80()"
   ]
  },
  {
   "cell_type": "raw",
   "metadata": {},
   "source": []
  },
  {
   "cell_type": "code",
   "execution_count": 7,
   "metadata": {},
   "outputs": [],
   "source": [
    "def knn_ROS90():\n",
    "    # splitting 90-10\n",
    "    X_train, X_test, y_train, y_test = train_test_split(X, y, test_size=0.1, random_state=42, stratify=y)\n",
    "\n",
    "    # oversampling minority class\n",
    "    oversample = RandomOverSampler(sampling_strategy='minority')\n",
    "    X_oversample, y_oversample = oversample.fit_resample(X_train, y_train)\n",
    "    # checking oversampling counts\n",
    "    print(y_oversample.value_counts())\n",
    "    # checking testing counts\n",
    "    print(y_test.value_counts())\n",
    "\n",
    "    # create Classifier for K-Nearest Neighbours\n",
    "    knn = KNeighborsClassifier(n_neighbors=60)\n",
    "\n",
    "    # fit kNN into oversampled training set\n",
    "    knn.fit(X_oversample, y_oversample)\n",
    "\n",
    "    # predict labels of oversampled test dataset\n",
    "    y_pred = knn.predict(X_test)\n",
    "\n",
    "    # compute and print oversampled confusion matrix\n",
    "    print(confusion_matrix(y_test, y_pred))\n",
    "    # compute and print oversampled classification report\n",
    "    print(classification_report(y_test, y_pred, target_names=['noStroke', 'stroke']))\n",
    "\n",
    "    # print recall rate (metric we are looking at)\n",
    "    recall = recall_score(y_test, y_pred)\n",
    "    print(recall)\n",
    "    print(f'K-Nearest Neighbours Oversampling Recall Rate: {recall*100:.2f}%')"
   ]
  },
  {
   "cell_type": "code",
   "execution_count": 8,
   "metadata": {},
   "outputs": [
    {
     "name": "stdout",
     "output_type": "stream",
     "text": [
      "1    4375\n",
      "0    4375\n",
      "Name: stroke, dtype: int64\n",
      "0    486\n",
      "1     25\n",
      "Name: stroke, dtype: int64\n",
      "[[357 129]\n",
      " [ 10  15]]\n",
      "              precision    recall  f1-score   support\n",
      "\n",
      "    noStroke       0.97      0.73      0.84       486\n",
      "      stroke       0.10      0.60      0.18        25\n",
      "\n",
      "    accuracy                           0.73       511\n",
      "   macro avg       0.54      0.67      0.51       511\n",
      "weighted avg       0.93      0.73      0.80       511\n",
      "\n",
      "0.6\n",
      "K-Nearest Neighbours Oversampling Recall Rate: 60.00%\n"
     ]
    }
   ],
   "source": [
    "knn_ROS90()"
   ]
  },
  {
   "cell_type": "raw",
   "metadata": {},
   "source": []
  },
  {
   "cell_type": "raw",
   "metadata": {},
   "source": []
  },
  {
   "cell_type": "raw",
   "metadata": {},
   "source": [
    "# using GridSearchCV to find n_neighbors\n",
    "# didn't work, return n_neighbors=1, after running result, recall rate: 14.67%\n",
    "\n",
    "def knnCV_ROS70():\n",
    "    # splitting 70-30\n",
    "    X_train, X_test, y_train, y_test = train_test_split(X, y, test_size=0.3, random_state=42, stratify=y)\n",
    "\n",
    "    # oversampling minority class\n",
    "    oversample = RandomOverSampler(sampling_strategy='minority')\n",
    "    X_oversample, y_oversample = oversample.fit_resample(X_train, y_train)\n",
    "    # checking oversampling counts\n",
    "    print(y_oversample.value_counts())\n",
    "    # checking testing counts\n",
    "    print(y_test.value_counts())\n",
    "    \n",
    "#     # using GridSearchCV\n",
    "#     param_grid = {'n_neighbors': np.arange(1, 100)}\n",
    "\n",
    "    # create Classifier for K-Nearest Neighbours\n",
    "    knn = KNeighborsClassifier(n_neighbors=1)\n",
    "    \n",
    "#     knn_cv = GridSearchCV(knn, param_grid, cv=5)\n",
    "#     knn_cv.fit(X_oversample, y_oversample)\n",
    "#     print(knn_cv.best_params_)\n",
    "\n",
    "    # fit kNN into oversampled training set\n",
    "    knn.fit(X_oversample, y_oversample)\n",
    "\n",
    "    # predict labels of oversampled test dataset\n",
    "    y_pred = knn.predict(X_test)\n",
    "\n",
    "    # compute and print oversampled confusion matrix\n",
    "    print(confusion_matrix(y_test, y_pred))\n",
    "    # compute and print oversampled classification report\n",
    "    print(classification_report(y_test, y_pred, target_names=['noStroke', 'stroke']))\n",
    "\n",
    "    # print recall rate (metric we are looking at)\n",
    "    recall = recall_score(y_test, y_pred)\n",
    "    print(recall)\n",
    "    print(f'K-Nearest Neighbours Oversampling Recall Rate: {recall*100:.2f}%')"
   ]
  },
  {
   "cell_type": "raw",
   "metadata": {},
   "source": [
    "knnCV_ROS70()"
   ]
  }
 ],
 "metadata": {
  "kernelspec": {
   "display_name": "Python 3",
   "language": "python",
   "name": "python3"
  },
  "language_info": {
   "codemirror_mode": {
    "name": "ipython",
    "version": 3
   },
   "file_extension": ".py",
   "mimetype": "text/x-python",
   "name": "python",
   "nbconvert_exporter": "python",
   "pygments_lexer": "ipython3",
   "version": "3.8.5"
  }
 },
 "nbformat": 4,
 "nbformat_minor": 4
}
