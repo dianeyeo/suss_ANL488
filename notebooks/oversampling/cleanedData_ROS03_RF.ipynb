{
 "cells": [
  {
   "cell_type": "code",
   "execution_count": 1,
   "metadata": {},
   "outputs": [],
   "source": [
    "import pandas as pd\n",
    "import numpy as np\n",
    "from sklearn.model_selection import train_test_split\n",
    "from sklearn.metrics import confusion_matrix, classification_report, recall_score\n",
    "from imblearn.over_sampling import RandomOverSampler, SMOTE\n",
    "from sklearn.ensemble import RandomForestClassifier\n",
    "import matplotlib.pyplot as plt"
   ]
  },
  {
   "cell_type": "code",
   "execution_count": 2,
   "metadata": {},
   "outputs": [],
   "source": [
    "strokeData = pd.read_csv(\"..\\..\\data\\cleaned\\cleanedDataset.csv\")\n",
    "X = strokeData.drop(columns='stroke', axis=1)\n",
    "y = strokeData['stroke']"
   ]
  },
  {
   "cell_type": "code",
   "execution_count": 11,
   "metadata": {},
   "outputs": [],
   "source": [
    "def rfROS70():\n",
    "    # splitting 70-30\n",
    "    X_train, X_test, y_train, y_test = train_test_split(X, y, test_size=0.3, random_state=42, stratify=y)\n",
    "\n",
    "    # oversampling minority class\n",
    "    oversample = RandomOverSampler(sampling_strategy='minority')\n",
    "    X_oversample, y_oversample = oversample.fit_resample(X_train, y_train)\n",
    "    # checking oversampling counts\n",
    "    print(y_oversample.value_counts())\n",
    "    # checking testing counts\n",
    "    print(y_test.value_counts())\n",
    "\n",
    "    # create Classifier for Random Forest\n",
    "    rf = RandomForestClassifier()\n",
    "\n",
    "    # fit rf into oversampled training set\n",
    "    rf.fit(X_oversample, y_oversample)\n",
    "\n",
    "    # predict labels of oversampled test dataset\n",
    "    y_pred = rf.predict(X_test)\n",
    "\n",
    "    # compute and print oversampled confusion matrix\n",
    "    print(confusion_matrix(y_test, y_pred))\n",
    "    # compute and print oversampled classification report\n",
    "    print(classification_report(y_test, y_pred, target_names=['noStroke', 'stroke']))\n",
    "\n",
    "    # print recall rate (metric we are looking at)\n",
    "    recall = recall_score(y_test, y_pred)\n",
    "    print(recall)\n",
    "    print(f'Random Forest Oversampling Recall Rate: {recall*100:.2f}%')"
   ]
  },
  {
   "cell_type": "code",
   "execution_count": 12,
   "metadata": {},
   "outputs": [
    {
     "name": "stdout",
     "output_type": "stream",
     "text": [
      "1    3403\n",
      "0    3403\n",
      "Name: stroke, dtype: int64\n",
      "0    1458\n",
      "1      75\n",
      "Name: stroke, dtype: int64\n",
      "[[1441   17]\n",
      " [  72    3]]\n",
      "              precision    recall  f1-score   support\n",
      "\n",
      "    noStroke       0.95      0.99      0.97      1458\n",
      "      stroke       0.15      0.04      0.06        75\n",
      "\n",
      "    accuracy                           0.94      1533\n",
      "   macro avg       0.55      0.51      0.52      1533\n",
      "weighted avg       0.91      0.94      0.93      1533\n",
      "\n",
      "0.04\n",
      "Random Forest Oversampling Recall Rate: 4.00%\n"
     ]
    }
   ],
   "source": [
    "rfROS70()"
   ]
  },
  {
   "cell_type": "code",
   "execution_count": 9,
   "metadata": {},
   "outputs": [],
   "source": [
    "def rf_ROS70():\n",
    "    # splitting 70-30\n",
    "    X_train, X_test, y_train, y_test = train_test_split(X, y, test_size=0.3, random_state=42, stratify=y)\n",
    "\n",
    "    # oversampling minority class\n",
    "    oversample = RandomOverSampler(sampling_strategy='minority')\n",
    "    X_oversample, y_oversample = oversample.fit_resample(X_train, y_train)\n",
    "    # checking oversampling counts\n",
    "    print(y_oversample.value_counts())\n",
    "    # checking testing counts\n",
    "    print(y_test.value_counts())\n",
    "\n",
    "    # create Classifier for Random Forest\n",
    "    rf = RandomForestClassifier(n_estimators=10, min_samples_leaf=34)\n",
    "\n",
    "    # fit rf into oversampled training set\n",
    "    rf.fit(X_oversample, y_oversample)\n",
    "\n",
    "    # predict labels of oversampled test dataset\n",
    "    y_pred = rf.predict(X_test)\n",
    "\n",
    "    # compute and print oversampled confusion matrix\n",
    "    print(confusion_matrix(y_test, y_pred))\n",
    "    # compute and print oversampled classification report\n",
    "    print(classification_report(y_test, y_pred, target_names=['noStroke', 'stroke']))\n",
    "\n",
    "    # print recall rate (metric we are looking at)\n",
    "    recall = recall_score(y_test, y_pred)\n",
    "    print(recall)\n",
    "    print(f'Random Forest Oversampling Recall Rate: {recall*100:.2f}%')"
   ]
  },
  {
   "cell_type": "code",
   "execution_count": 10,
   "metadata": {},
   "outputs": [
    {
     "name": "stdout",
     "output_type": "stream",
     "text": [
      "1    3403\n",
      "0    3403\n",
      "Name: stroke, dtype: int64\n",
      "0    1458\n",
      "1      75\n",
      "Name: stroke, dtype: int64\n",
      "[[1124  334]\n",
      " [  20   55]]\n",
      "              precision    recall  f1-score   support\n",
      "\n",
      "    noStroke       0.98      0.77      0.86      1458\n",
      "      stroke       0.14      0.73      0.24        75\n",
      "\n",
      "    accuracy                           0.77      1533\n",
      "   macro avg       0.56      0.75      0.55      1533\n",
      "weighted avg       0.94      0.77      0.83      1533\n",
      "\n",
      "0.7333333333333333\n",
      "Random Forest Oversampling Recall Rate: 73.33%\n"
     ]
    }
   ],
   "source": [
    "rf_ROS70()"
   ]
  },
  {
   "cell_type": "raw",
   "metadata": {},
   "source": []
  },
  {
   "cell_type": "code",
   "execution_count": 13,
   "metadata": {},
   "outputs": [],
   "source": [
    "def rf_ROS80():\n",
    "    # splitting 80-20\n",
    "    X_train, X_test, y_train, y_test = train_test_split(X, y, test_size=0.2, random_state=42, stratify=y)\n",
    "\n",
    "    # oversampling minority class\n",
    "    oversample = RandomOverSampler(sampling_strategy='minority')\n",
    "    X_oversample, y_oversample = oversample.fit_resample(X_train, y_train)\n",
    "    # checking oversampling counts\n",
    "    print(y_oversample.value_counts())\n",
    "    # checking testing counts\n",
    "    print(y_test.value_counts())\n",
    "\n",
    "    # create Classifier for Random Forest\n",
    "    rf = RandomForestClassifier(n_estimators=10, min_samples_leaf=34)\n",
    "\n",
    "    # fit rf into oversampled training set\n",
    "    rf.fit(X_oversample, y_oversample)\n",
    "\n",
    "    # predict labels of oversampled test dataset\n",
    "    y_pred = rf.predict(X_test)\n",
    "\n",
    "    # compute and print oversampled confusion matrix\n",
    "    print(confusion_matrix(y_test, y_pred))\n",
    "    # compute and print oversampled classification report\n",
    "    print(classification_report(y_test, y_pred, target_names=['noStroke', 'stroke']))\n",
    "\n",
    "    # print recall rate (metric we are looking at)\n",
    "    recall = recall_score(y_test, y_pred)\n",
    "    print(recall)\n",
    "    print(f'Random Forest Oversampling Recall Rate: {recall*100:.2f}%')"
   ]
  },
  {
   "cell_type": "code",
   "execution_count": 36,
   "metadata": {},
   "outputs": [
    {
     "name": "stdout",
     "output_type": "stream",
     "text": [
      "1    3889\n",
      "0    3889\n",
      "Name: stroke, dtype: int64\n",
      "0    972\n",
      "1     50\n",
      "Name: stroke, dtype: int64\n",
      "[[759 213]\n",
      " [ 10  40]]\n",
      "              precision    recall  f1-score   support\n",
      "\n",
      "    noStroke       0.99      0.78      0.87       972\n",
      "      stroke       0.16      0.80      0.26        50\n",
      "\n",
      "    accuracy                           0.78      1022\n",
      "   macro avg       0.57      0.79      0.57      1022\n",
      "weighted avg       0.95      0.78      0.84      1022\n",
      "\n",
      "0.8\n",
      "Random Forest Oversampling Recall Rate: 80.00%\n"
     ]
    }
   ],
   "source": [
    "rf_ROS80()"
   ]
  },
  {
   "cell_type": "raw",
   "metadata": {},
   "source": []
  },
  {
   "cell_type": "code",
   "execution_count": 39,
   "metadata": {},
   "outputs": [],
   "source": [
    "def rf_ROS90():\n",
    "    # splitting 90-10\n",
    "    X_train, X_test, y_train, y_test = train_test_split(X, y, test_size=0.1, random_state=42, stratify=y)\n",
    "\n",
    "    # oversampling minority class\n",
    "    oversample = RandomOverSampler(sampling_strategy='minority')\n",
    "    X_oversample, y_oversample = oversample.fit_resample(X_train, y_train)\n",
    "    # checking oversampling counts\n",
    "    print(y_oversample.value_counts())\n",
    "    # checking testing counts\n",
    "    print(y_test.value_counts())\n",
    "\n",
    "    # create Classifier for Random Forest\n",
    "    rf = RandomForestClassifier(n_estimators=10, min_samples_leaf=34)\n",
    "\n",
    "    # fit rf into oversampled training set\n",
    "    rf.fit(X_oversample, y_oversample)\n",
    "\n",
    "    # predict labels of oversampled test dataset\n",
    "    y_pred = rf.predict(X_test)\n",
    "\n",
    "    # compute and print oversampled confusion matrix\n",
    "    print(confusion_matrix(y_test, y_pred))\n",
    "    # compute and print oversampled classification report\n",
    "    print(classification_report(y_test, y_pred, target_names=['noStroke', 'stroke']))\n",
    "\n",
    "    # print recall rate (metric we are looking at)\n",
    "    recall = recall_score(y_test, y_pred)\n",
    "    print(recall)\n",
    "    print(f'Random Forest Oversampling Recall Rate: {recall*100:.2f}%')"
   ]
  },
  {
   "cell_type": "code",
   "execution_count": 40,
   "metadata": {},
   "outputs": [
    {
     "name": "stdout",
     "output_type": "stream",
     "text": [
      "1    4375\n",
      "0    4375\n",
      "Name: stroke, dtype: int64\n",
      "0    486\n",
      "1     25\n",
      "Name: stroke, dtype: int64\n",
      "[[387  99]\n",
      " [  7  18]]\n",
      "              precision    recall  f1-score   support\n",
      "\n",
      "    noStroke       0.98      0.80      0.88       486\n",
      "      stroke       0.15      0.72      0.25        25\n",
      "\n",
      "    accuracy                           0.79       511\n",
      "   macro avg       0.57      0.76      0.57       511\n",
      "weighted avg       0.94      0.79      0.85       511\n",
      "\n",
      "0.72\n",
      "Random Forest Oversampling Recall Rate: 72.00%\n"
     ]
    }
   ],
   "source": [
    "rf_ROS90()"
   ]
  },
  {
   "cell_type": "raw",
   "metadata": {},
   "source": []
  },
  {
   "cell_type": "raw",
   "metadata": {},
   "source": []
  },
  {
   "cell_type": "code",
   "execution_count": 4,
   "metadata": {},
   "outputs": [],
   "source": [
    "def rf_ROS802():\n",
    "    # splitting 80-20\n",
    "    X_train, X_test, y_train, y_test = train_test_split(X, y, test_size=0.2, random_state=42, stratify=y)\n",
    "\n",
    "    # oversampling minority class\n",
    "    oversample = RandomOverSampler(sampling_strategy='minority')\n",
    "    X_oversample, y_oversample = oversample.fit_resample(X_train, y_train)\n",
    "    # checking oversampling counts\n",
    "    print(y_oversample.value_counts())\n",
    "    # checking testing counts\n",
    "    print(y_test.value_counts())\n",
    "\n",
    "    # create Classifier for Random Forest\n",
    "    rf = RandomForestClassifier(n_estimators=10, min_samples_leaf=34)\n",
    "\n",
    "    # fit rf into oversampled training set\n",
    "    rf.fit(X_oversample, y_oversample)\n",
    "\n",
    "    # predict labels of oversampled test dataset\n",
    "    y_pred = rf.predict(X_test)\n",
    "\n",
    "    # compute and print oversampled confusion matrix\n",
    "    print(confusion_matrix(y_test, y_pred))\n",
    "    # compute and print oversampled classification report\n",
    "    print(classification_report(y_test, y_pred, target_names=['noStroke', 'stroke']))\n",
    "\n",
    "    # print recall rate (metric we are looking at)\n",
    "    recall = recall_score(y_test, y_pred)\n",
    "    print(recall)\n",
    "    print(f'Random Forest Oversampling Recall Rate: {recall*100:.2f}%')\n",
    "    \n",
    "    # get importance\n",
    "    importance = rf.feature_importances_\n",
    "    # summarize feature importance\n",
    "    for i,v in enumerate(importance):\n",
    "#         print('Feature: %0d, Score: %.5f' % (i+1,v))\n",
    "        print(f\"Feature: {X.columns[i]:<22} Score: {v:.5f}\")\n",
    "    # plot feature importance\n",
    "#     plt.bar([x for x in range(len(importance))], importance)\n",
    "    plt.bar(X.columns, importance)\n",
    "    plt.xticks(rotation=80)\n",
    "    plt.show()"
   ]
  },
  {
   "cell_type": "code",
   "execution_count": 10,
   "metadata": {},
   "outputs": [
    {
     "name": "stdout",
     "output_type": "stream",
     "text": [
      "1    3889\n",
      "0    3889\n",
      "Name: stroke, dtype: int64\n",
      "0    972\n",
      "1     50\n",
      "Name: stroke, dtype: int64\n",
      "[[752 220]\n",
      " [ 10  40]]\n",
      "              precision    recall  f1-score   support\n",
      "\n",
      "    noStroke       0.99      0.77      0.87       972\n",
      "      stroke       0.15      0.80      0.26        50\n",
      "\n",
      "    accuracy                           0.77      1022\n",
      "   macro avg       0.57      0.79      0.56      1022\n",
      "weighted avg       0.95      0.77      0.84      1022\n",
      "\n",
      "0.8\n",
      "Random Forest Oversampling Recall Rate: 80.00%\n",
      "Feature: age                    Score: 0.55550\n",
      "Feature: hypertension           Score: 0.05312\n",
      "Feature: heart_disease          Score: 0.02505\n",
      "Feature: avg_glucose_level      Score: 0.13546\n",
      "Feature: bmi                    Score: 0.10675\n",
      "Feature: gender_Female          Score: 0.00602\n",
      "Feature: gender_Male            Score: 0.00301\n",
      "Feature: married_No             Score: 0.02769\n",
      "Feature: married_Yes            Score: 0.00405\n",
      "Feature: work_Govt_job          Score: 0.00404\n",
      "Feature: work_Never_worked      Score: 0.00000\n",
      "Feature: work_Private           Score: 0.00643\n",
      "Feature: work_Self-employed     Score: 0.01502\n",
      "Feature: work_children          Score: 0.01816\n",
      "Feature: residence_Rural        Score: 0.00566\n",
      "Feature: residence_Urban        Score: 0.00823\n",
      "Feature: smoke_Unknown          Score: 0.00522\n",
      "Feature: smoke_formerly smoked  Score: 0.00530\n",
      "Feature: smoke_never smoked     Score: 0.01207\n",
      "Feature: smoke_smokes           Score: 0.00323\n"
     ]
    },
    {
     "data": {
      "image/png": "[encoded data removed]",
      "text/plain": [
       "<Figure size 432x288 with 1 Axes>"
      ]
     },
     "metadata": {
      "needs_background": "light"
     },
     "output_type": "display_data"
    }
   ],
   "source": [
    "rf_ROS802()"
   ]
  },
  {
   "cell_type": "code",
   "execution_count": null,
   "metadata": {},
   "outputs": [],
   "source": []
  },
  {
   "cell_type": "code",
   "execution_count": null,
   "metadata": {},
   "outputs": [],
   "source": []
  }
 ],
 "metadata": {
  "kernelspec": {
   "display_name": "Python 3",
   "language": "python",
   "name": "python3"
  },
  "language_info": {
   "codemirror_mode": {
    "name": "ipython",
    "version": 3
   },
   "file_extension": ".py",
   "mimetype": "text/x-python",
   "name": "python",
   "nbconvert_exporter": "python",
   "pygments_lexer": "ipython3",
   "version": "3.8.5"
  }
 },
 "nbformat": 4,
 "nbformat_minor": 4
}
