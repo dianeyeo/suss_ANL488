{
 "cells": [
  {
   "cell_type": "code",
   "execution_count": 1,
   "metadata": {},
   "outputs": [],
   "source": [
    "import pandas as pd\n",
    "import numpy as np\n",
    "from collections import Counter\n",
    "from sklearn.model_selection import train_test_split\n",
    "from sklearn.metrics import confusion_matrix, classification_report, recall_score\n",
    "from imblearn.over_sampling import RandomOverSampler\n",
    "from imblearn.under_sampling import RandomUnderSampler\n",
    "from sklearn.neural_network import MLPClassifier\n",
    "import matplotlib.pyplot as plt"
   ]
  },
  {
   "cell_type": "code",
   "execution_count": 2,
   "metadata": {},
   "outputs": [],
   "source": [
    "strokeData = pd.read_csv(\"..\\..\\data\\cleaned\\cleanedDataset.csv\")\n",
    "X = strokeData.drop(columns='stroke', axis=1)\n",
    "y = strokeData['stroke']"
   ]
  },
  {
   "cell_type": "code",
   "execution_count": 18,
   "metadata": {},
   "outputs": [],
   "source": [
    "def combi20():\n",
    "    # splitting data\n",
    "    X_train, X_test, y_train, y_test = train_test_split(X, y, test_size=0.2,random_state=42, stratify=y)\n",
    "    print(y_train.value_counts())\n",
    "    \n",
    "    # oversampling training data\n",
    "    over = RandomOverSampler(sampling_strategy=0.2)\n",
    "    X_over, y_over = over.fit_resample(X_train, y_train)\n",
    "    print(y_over.value_counts())\n",
    "    print(f\"Oversampling: {Counter(y_over)}\")\n",
    "    \n",
    "    # undersampling oversampled training data\n",
    "    under = RandomUnderSampler(sampling_strategy=0.9)\n",
    "    X_under, y_under = under.fit_resample(X_over, y_over)\n",
    "    print(y_under.value_counts())\n",
    "    print(f\"Combination: {Counter(y_under)}\")\n",
    "    \n",
    "    # create Classifier for Neural Networks\n",
    "    nn = MLPClassifier(max_iter=1000)\n",
    "    \n",
    "    # fit training data into NN\n",
    "    nn.fit(X_under, y_under)\n",
    "\n",
    "    # predict labels of test dataset\n",
    "    y_pred = nn.predict(X_test)\n",
    "\n",
    "    # compute and print confusion matrix\n",
    "    print(confusion_matrix(y_test, y_pred))\n",
    "    \n",
    "    # compute and print classification report\n",
    "    print(classification_report(y_test, y_pred, target_names=['noStroke', 'stroke']))\n",
    "\n",
    "    # print recall rate (metric we are looking at)\n",
    "    recall = recall_score(y_test, y_pred)\n",
    "    print(recall)\n",
    "    print(f'Neural Network Combination Recall Rate: {recall*100:.2f}%')"
   ]
  },
  {
   "cell_type": "code",
   "execution_count": 21,
   "metadata": {},
   "outputs": [
    {
     "name": "stdout",
     "output_type": "stream",
     "text": [
      "0    3889\n",
      "1     199\n",
      "Name: stroke, dtype: int64\n",
      "0    3889\n",
      "1     777\n",
      "Name: stroke, dtype: int64\n",
      "Oversampling: Counter({0: 3889, 1: 777})\n",
      "0    863\n",
      "1    777\n",
      "Name: stroke, dtype: int64\n",
      "Combination: Counter({0: 863, 1: 777})\n",
      "[[757 215]\n",
      " [ 10  40]]\n",
      "              precision    recall  f1-score   support\n",
      "\n",
      "    noStroke       0.99      0.78      0.87       972\n",
      "      stroke       0.16      0.80      0.26        50\n",
      "\n",
      "    accuracy                           0.78      1022\n",
      "   macro avg       0.57      0.79      0.57      1022\n",
      "weighted avg       0.95      0.78      0.84      1022\n",
      "\n",
      "0.8\n",
      "Neural Network Combination Recall Rate: 80.00%\n"
     ]
    }
   ],
   "source": [
    "combi20()"
   ]
  },
  {
   "cell_type": "code",
   "execution_count": 85,
   "metadata": {
    "tags": []
   },
   "outputs": [],
   "source": [
    "def combi30():\n",
    "    # splitting data\n",
    "    X_train, X_test, y_train, y_test = train_test_split(X, y, test_size=0.2,random_state=42, stratify=y)\n",
    "    print(y_train.value_counts())\n",
    "    \n",
    "    # oversampling training data\n",
    "    over = RandomOverSampler(sampling_strategy=0.3)\n",
    "    X_over, y_over = over.fit_resample(X_train, y_train)\n",
    "    print(y_over.value_counts())\n",
    "    print(f\"Oversampling: {Counter(y_over)}\")\n",
    "    \n",
    "    # undersampling oversampled training data\n",
    "    under = RandomUnderSampler(sampling_strategy=0.8)\n",
    "    X_under, y_under = under.fit_resample(X_over, y_over)\n",
    "    print(y_under.value_counts())\n",
    "    print(f\"Combination: {Counter(y_under)}\")\n",
    "    \n",
    "    # create Classifier for Neural Networks\n",
    "    nn = MLPClassifier(max_iter=1000)\n",
    "    \n",
    "    # fit training data into NN\n",
    "    nn.fit(X_under, y_under)\n",
    "\n",
    "    # predict labels of test dataset\n",
    "    y_pred = nn.predict(X_test)\n",
    "\n",
    "    # compute and print confusion matrix\n",
    "    print(confusion_matrix(y_test, y_pred))\n",
    "    \n",
    "    # compute and print classification report\n",
    "    print(classification_report(y_test, y_pred, target_names=['noStroke', 'stroke']))\n",
    "\n",
    "    # print recall rate (metric we are looking at)\n",
    "    recall = recall_score(y_test, y_pred)\n",
    "    print(recall)\n",
    "    print(f'Neural Network Combination Recall Rate: {recall*100:.2f}%')"
   ]
  },
  {
   "cell_type": "code",
   "execution_count": 87,
   "metadata": {},
   "outputs": [
    {
     "name": "stdout",
     "output_type": "stream",
     "text": [
      "0    3889\n",
      "1     199\n",
      "Name: stroke, dtype: int64\n",
      "0    3889\n",
      "1    1166\n",
      "Name: stroke, dtype: int64\n",
      "Oversampling: Counter({0: 3889, 1: 1166})\n",
      "0    1457\n",
      "1    1166\n",
      "Name: stroke, dtype: int64\n",
      "Combination: Counter({0: 1457, 1: 1166})\n",
      "[[719 253]\n",
      " [ 10  40]]\n",
      "              precision    recall  f1-score   support\n",
      "\n",
      "    noStroke       0.99      0.74      0.85       972\n",
      "      stroke       0.14      0.80      0.23        50\n",
      "\n",
      "    accuracy                           0.74      1022\n",
      "   macro avg       0.56      0.77      0.54      1022\n",
      "weighted avg       0.94      0.74      0.82      1022\n",
      "\n",
      "0.8\n",
      "Neural Network Combination Recall Rate: 80.00%\n"
     ]
    }
   ],
   "source": [
    "combi30()"
   ]
  },
  {
   "cell_type": "code",
   "execution_count": 90,
   "metadata": {
    "tags": []
   },
   "outputs": [],
   "source": [
    "def combi40():\n",
    "    # splitting data\n",
    "    X_train, X_test, y_train, y_test = train_test_split(X, y, test_size=0.2,random_state=42, stratify=y)\n",
    "    print(y_train.value_counts())\n",
    "    \n",
    "    # oversampling training data\n",
    "    over = RandomOverSampler(sampling_strategy=0.4)\n",
    "    X_over, y_over = over.fit_resample(X_train, y_train)\n",
    "    print(y_over.value_counts())\n",
    "    print(f\"Oversampling: {Counter(y_over)}\")\n",
    "    \n",
    "    # undersampling oversampled training data\n",
    "    under = RandomUnderSampler(sampling_strategy=0.8)\n",
    "    X_under, y_under = under.fit_resample(X_over, y_over)\n",
    "    print(y_under.value_counts())\n",
    "    print(f\"Combination: {Counter(y_under)}\")\n",
    "    \n",
    "    # create Classifier for Neural Networks\n",
    "    nn = MLPClassifier(max_iter=1000)\n",
    "    \n",
    "    # fit training data into NN\n",
    "    nn.fit(X_under, y_under)\n",
    "\n",
    "    # predict labels of test dataset\n",
    "    y_pred = nn.predict(X_test)\n",
    "\n",
    "    # compute and print confusion matrix\n",
    "    print(confusion_matrix(y_test, y_pred))\n",
    "    \n",
    "    # compute and print classification report\n",
    "    print(classification_report(y_test, y_pred, target_names=['noStroke', 'stroke']))\n",
    "\n",
    "    # print recall rate (metric we are looking at)\n",
    "    recall = recall_score(y_test, y_pred)\n",
    "    print(recall)\n",
    "    print(f'Neural Network Combination Recall Rate: {recall*100:.2f}%')"
   ]
  },
  {
   "cell_type": "code",
   "execution_count": 92,
   "metadata": {},
   "outputs": [
    {
     "name": "stdout",
     "output_type": "stream",
     "text": [
      "0    3889\n",
      "1     199\n",
      "Name: stroke, dtype: int64\n",
      "0    3889\n",
      "1    1555\n",
      "Name: stroke, dtype: int64\n",
      "Oversampling: Counter({0: 3889, 1: 1555})\n",
      "0    1943\n",
      "1    1555\n",
      "Name: stroke, dtype: int64\n",
      "Combination: Counter({0: 1943, 1: 1555})\n",
      "[[753 219]\n",
      " [ 10  40]]\n",
      "              precision    recall  f1-score   support\n",
      "\n",
      "    noStroke       0.99      0.77      0.87       972\n",
      "      stroke       0.15      0.80      0.26        50\n",
      "\n",
      "    accuracy                           0.78      1022\n",
      "   macro avg       0.57      0.79      0.56      1022\n",
      "weighted avg       0.95      0.78      0.84      1022\n",
      "\n",
      "0.8\n",
      "Neural Network Combination Recall Rate: 80.00%\n"
     ]
    }
   ],
   "source": [
    "combi40()"
   ]
  },
  {
   "cell_type": "code",
   "execution_count": 93,
   "metadata": {
    "tags": []
   },
   "outputs": [],
   "source": [
    "def combi50():\n",
    "    # splitting data\n",
    "    X_train, X_test, y_train, y_test = train_test_split(X, y, test_size=0.2,random_state=42, stratify=y)\n",
    "    print(y_train.value_counts())\n",
    "    \n",
    "    # oversampling training data\n",
    "    over = RandomOverSampler(sampling_strategy=0.5)\n",
    "    X_over, y_over = over.fit_resample(X_train, y_train)\n",
    "    print(y_over.value_counts())\n",
    "    print(f\"Oversampling: {Counter(y_over)}\")\n",
    "    \n",
    "    # undersampling oversampled training data\n",
    "    under = RandomUnderSampler(sampling_strategy=0.8)\n",
    "    X_under, y_under = under.fit_resample(X_over, y_over)\n",
    "    print(y_under.value_counts())\n",
    "    print(f\"Combination: {Counter(y_under)}\")\n",
    "    \n",
    "    # create Classifier for Neural Networks\n",
    "    nn = MLPClassifier(max_iter=1000)\n",
    "    \n",
    "    # fit training data into NN\n",
    "    nn.fit(X_under, y_under)\n",
    "\n",
    "    # predict labels of test dataset\n",
    "    y_pred = nn.predict(X_test)\n",
    "\n",
    "    # compute and print confusion matrix\n",
    "    print(confusion_matrix(y_test, y_pred))\n",
    "    \n",
    "    # compute and print classification report\n",
    "    print(classification_report(y_test, y_pred, target_names=['noStroke', 'stroke']))\n",
    "\n",
    "    # print recall rate (metric we are looking at)\n",
    "    recall = recall_score(y_test, y_pred)\n",
    "    print(recall)\n",
    "    print(f'Neural Network Combination Recall Rate: {recall*100:.2f}%')"
   ]
  },
  {
   "cell_type": "code",
   "execution_count": 95,
   "metadata": {},
   "outputs": [
    {
     "name": "stdout",
     "output_type": "stream",
     "text": [
      "0    3889\n",
      "1     199\n",
      "Name: stroke, dtype: int64\n",
      "0    3889\n",
      "1    1944\n",
      "Name: stroke, dtype: int64\n",
      "Oversampling: Counter({0: 3889, 1: 1944})\n",
      "0    2430\n",
      "1    1944\n",
      "Name: stroke, dtype: int64\n",
      "Combination: Counter({0: 2430, 1: 1944})\n",
      "[[766 206]\n",
      " [ 14  36]]\n",
      "              precision    recall  f1-score   support\n",
      "\n",
      "    noStroke       0.98      0.79      0.87       972\n",
      "      stroke       0.15      0.72      0.25        50\n",
      "\n",
      "    accuracy                           0.78      1022\n",
      "   macro avg       0.57      0.75      0.56      1022\n",
      "weighted avg       0.94      0.78      0.84      1022\n",
      "\n",
      "0.72\n",
      "Neural Network Combination Recall Rate: 72.00%\n"
     ]
    }
   ],
   "source": [
    "combi50()"
   ]
  },
  {
   "cell_type": "code",
   "execution_count": 69,
   "metadata": {
    "tags": []
   },
   "outputs": [],
   "source": [
    "def combi60():\n",
    "    # splitting data\n",
    "    X_train, X_test, y_train, y_test = train_test_split(X, y, test_size=0.2,random_state=42, stratify=y)\n",
    "    print(y_train.value_counts())\n",
    "    \n",
    "    # oversampling training data\n",
    "    over = RandomOverSampler(sampling_strategy=0.6)\n",
    "    X_over, y_over = over.fit_resample(X_train, y_train)\n",
    "    print(y_over.value_counts())\n",
    "    print(f\"Oversampling: {Counter(y_over)}\")\n",
    "    \n",
    "    # undersampling oversampled training data\n",
    "    under = RandomUnderSampler(sampling_strategy=0.8)\n",
    "    X_under, y_under = under.fit_resample(X_over, y_over)\n",
    "    print(y_under.value_counts())\n",
    "    print(f\"Combination: {Counter(y_under)}\")\n",
    "    \n",
    "    # create Classifier for Neural Networks\n",
    "    nn = MLPClassifier(max_iter=1000)\n",
    "    \n",
    "    # fit training data into NN\n",
    "    nn.fit(X_under, y_under)\n",
    "\n",
    "    # predict labels of test dataset\n",
    "    y_pred = nn.predict(X_test)\n",
    "\n",
    "    # compute and print confusion matrix\n",
    "    print(confusion_matrix(y_test, y_pred))\n",
    "    \n",
    "    # compute and print classification report\n",
    "    print(classification_report(y_test, y_pred, target_names=['noStroke', 'stroke']))\n",
    "\n",
    "    # print recall rate (metric we are looking at)\n",
    "    recall = recall_score(y_test, y_pred)\n",
    "    print(recall)\n",
    "    print(f'Neural Network Combination Recall Rate: {recall*100:.2f}%')"
   ]
  },
  {
   "cell_type": "code",
   "execution_count": 73,
   "metadata": {},
   "outputs": [
    {
     "name": "stdout",
     "output_type": "stream",
     "text": [
      "0    3889\n",
      "1     199\n",
      "Name: stroke, dtype: int64\n",
      "0    3889\n",
      "1    2333\n",
      "Name: stroke, dtype: int64\n",
      "Oversampling: Counter({0: 3889, 1: 2333})\n",
      "0    2916\n",
      "1    2333\n",
      "Name: stroke, dtype: int64\n",
      "Combination: Counter({0: 2916, 1: 2333})\n",
      "[[773 199]\n",
      " [  9  41]]\n",
      "              precision    recall  f1-score   support\n",
      "\n",
      "    noStroke       0.99      0.80      0.88       972\n",
      "      stroke       0.17      0.82      0.28        50\n",
      "\n",
      "    accuracy                           0.80      1022\n",
      "   macro avg       0.58      0.81      0.58      1022\n",
      "weighted avg       0.95      0.80      0.85      1022\n",
      "\n",
      "0.82\n",
      "Neural Network Combination Recall Rate: 82.00%\n"
     ]
    }
   ],
   "source": [
    "combi60()"
   ]
  },
  {
   "cell_type": "code",
   "execution_count": 78,
   "metadata": {
    "tags": []
   },
   "outputs": [],
   "source": [
    "def combi70():\n",
    "    # splitting data\n",
    "    X_train, X_test, y_train, y_test = train_test_split(X, y, test_size=0.2,random_state=42, stratify=y)\n",
    "    print(y_train.value_counts())\n",
    "    \n",
    "    # oversampling training data\n",
    "    over = RandomOverSampler(sampling_strategy=0.7)\n",
    "    X_over, y_over = over.fit_resample(X_train, y_train)\n",
    "    print(y_over.value_counts())\n",
    "    print(f\"Oversampling: {Counter(y_over)}\")\n",
    "    \n",
    "    # undersampling oversampled training data\n",
    "    under = RandomUnderSampler(sampling_strategy=0.8)\n",
    "    X_under, y_under = under.fit_resample(X_over, y_over)\n",
    "    print(y_under.value_counts())\n",
    "    print(f\"Combination: {Counter(y_under)}\")\n",
    "    \n",
    "    # create Classifier for Neural Networks\n",
    "    nn = MLPClassifier(max_iter=1000)\n",
    "    \n",
    "    # fit training data into NN\n",
    "    nn.fit(X_under, y_under)\n",
    "\n",
    "    # predict labels of test dataset\n",
    "    y_pred = nn.predict(X_test)\n",
    "\n",
    "    # compute and print confusion matrix\n",
    "    print(confusion_matrix(y_test, y_pred))\n",
    "    \n",
    "    # compute and print classification report\n",
    "    print(classification_report(y_test, y_pred, target_names=['noStroke', 'stroke']))\n",
    "\n",
    "    # print recall rate (metric we are looking at)\n",
    "    recall = recall_score(y_test, y_pred)\n",
    "    print(recall)\n",
    "    print(f'Neural Network Combination Recall Rate: {recall*100:.2f}%')"
   ]
  },
  {
   "cell_type": "code",
   "execution_count": 81,
   "metadata": {},
   "outputs": [
    {
     "name": "stdout",
     "output_type": "stream",
     "text": [
      "0    3889\n",
      "1     199\n",
      "Name: stroke, dtype: int64\n",
      "0    3889\n",
      "1    2722\n",
      "Name: stroke, dtype: int64\n",
      "Oversampling: Counter({0: 3889, 1: 2722})\n",
      "0    3402\n",
      "1    2722\n",
      "Name: stroke, dtype: int64\n",
      "Combination: Counter({0: 3402, 1: 2722})\n",
      "[[782 190]\n",
      " [ 13  37]]\n",
      "              precision    recall  f1-score   support\n",
      "\n",
      "    noStroke       0.98      0.80      0.89       972\n",
      "      stroke       0.16      0.74      0.27        50\n",
      "\n",
      "    accuracy                           0.80      1022\n",
      "   macro avg       0.57      0.77      0.58      1022\n",
      "weighted avg       0.94      0.80      0.85      1022\n",
      "\n",
      "0.74\n",
      "Neural Network Combination Recall Rate: 74.00%\n"
     ]
    }
   ],
   "source": [
    "combi70()"
   ]
  },
  {
   "cell_type": "code",
   "execution_count": 82,
   "metadata": {
    "tags": []
   },
   "outputs": [],
   "source": [
    "def combi80():\n",
    "    # splitting data\n",
    "    X_train, X_test, y_train, y_test = train_test_split(X, y, test_size=0.2,random_state=42, stratify=y)\n",
    "    print(y_train.value_counts())\n",
    "    \n",
    "    # oversampling training data\n",
    "    over = RandomOverSampler(sampling_strategy=0.8)\n",
    "    X_over, y_over = over.fit_resample(X_train, y_train)\n",
    "    print(y_over.value_counts())\n",
    "    print(f\"Oversampling: {Counter(y_over)}\")\n",
    "    \n",
    "    # undersampling oversampled training data\n",
    "    under = RandomUnderSampler(sampling_strategy=0.9)\n",
    "    X_under, y_under = under.fit_resample(X_over, y_over)\n",
    "    print(y_under.value_counts())\n",
    "    print(f\"Combination: {Counter(y_under)}\")\n",
    "    \n",
    "    # create Classifier for Neural Networks\n",
    "    nn = MLPClassifier(max_iter=1000)\n",
    "    \n",
    "    # fit training data into NN\n",
    "    nn.fit(X_under, y_under)\n",
    "\n",
    "    # predict labels of test dataset\n",
    "    y_pred = nn.predict(X_test)\n",
    "\n",
    "    # compute and print confusion matrix\n",
    "    print(confusion_matrix(y_test, y_pred))\n",
    "    \n",
    "    # compute and print classification report\n",
    "    print(classification_report(y_test, y_pred, target_names=['noStroke', 'stroke']))\n",
    "\n",
    "    # print recall rate (metric we are looking at)\n",
    "    recall = recall_score(y_test, y_pred)\n",
    "    print(recall)\n",
    "    print(f'Neural Network Combination Recall Rate: {recall*100:.2f}%')"
   ]
  },
  {
   "cell_type": "code",
   "execution_count": 84,
   "metadata": {},
   "outputs": [
    {
     "name": "stdout",
     "output_type": "stream",
     "text": [
      "0    3889\n",
      "1     199\n",
      "Name: stroke, dtype: int64\n",
      "0    3889\n",
      "1    3111\n",
      "Name: stroke, dtype: int64\n",
      "Oversampling: Counter({0: 3889, 1: 3111})\n",
      "0    3456\n",
      "1    3111\n",
      "Name: stroke, dtype: int64\n",
      "Combination: Counter({0: 3456, 1: 3111})\n",
      "[[775 197]\n",
      " [ 14  36]]\n",
      "              precision    recall  f1-score   support\n",
      "\n",
      "    noStroke       0.98      0.80      0.88       972\n",
      "      stroke       0.15      0.72      0.25        50\n",
      "\n",
      "    accuracy                           0.79      1022\n",
      "   macro avg       0.57      0.76      0.57      1022\n",
      "weighted avg       0.94      0.79      0.85      1022\n",
      "\n",
      "0.72\n",
      "Neural Network Combination Recall Rate: 72.00%\n"
     ]
    }
   ],
   "source": [
    "combi80()"
   ]
  },
  {
   "cell_type": "code",
   "execution_count": null,
   "metadata": {},
   "outputs": [],
   "source": []
  },
  {
   "cell_type": "code",
   "execution_count": null,
   "metadata": {},
   "outputs": [],
   "source": []
  },
  {
   "cell_type": "code",
   "execution_count": null,
   "metadata": {},
   "outputs": [],
   "source": []
  }
 ],
 "metadata": {
  "kernelspec": {
   "display_name": "Python 3",
   "language": "python",
   "name": "python3"
  },
  "language_info": {
   "codemirror_mode": {
    "name": "ipython",
    "version": 3
   },
   "file_extension": ".py",
   "mimetype": "text/x-python",
   "name": "python",
   "nbconvert_exporter": "python",
   "pygments_lexer": "ipython3",
   "version": "3.8.5"
  }
 },
 "nbformat": 4,
 "nbformat_minor": 4
}
