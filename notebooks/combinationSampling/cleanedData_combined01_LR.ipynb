{
 "cells": [
  {
   "cell_type": "code",
   "execution_count": 1,
   "metadata": {},
   "outputs": [],
   "source": [
    "import pandas as pd\n",
    "import numpy as np\n",
    "from sklearn.model_selection import train_test_split\n",
    "from sklearn.metrics import confusion_matrix, classification_report, recall_score\n",
    "from imblearn.over_sampling import RandomOverSampler\n",
    "from imblearn.under_sampling import RandomUnderSampler\n",
    "from sklearn.linear_model import LogisticRegression\n",
    "import matplotlib.pyplot as plt"
   ]
  },
  {
   "cell_type": "code",
   "execution_count": 2,
   "metadata": {},
   "outputs": [],
   "source": [
    "# example of evaluating a model with random oversampling and undersampling\n",
    "from numpy import mean\n",
    "from collections import Counter\n",
    "from sklearn.datasets import make_classification\n",
    "from sklearn.model_selection import cross_val_score\n",
    "from sklearn.model_selection import RepeatedStratifiedKFold\n",
    "# from sklearn.tree import DecisionTreeClassifier\n",
    "from imblearn.pipeline import Pipeline"
   ]
  },
  {
   "cell_type": "code",
   "execution_count": 4,
   "metadata": {},
   "outputs": [],
   "source": [
    "strokeData = pd.read_csv(\"..\\..\\data\\cleaned\\cleanedDataset.csv\")\n",
    "X = strokeData.drop(columns='stroke', axis=1)\n",
    "y = strokeData['stroke']"
   ]
  },
  {
   "cell_type": "code",
   "execution_count": 8,
   "metadata": {},
   "outputs": [],
   "source": [
    "def combi20():\n",
    "    # splitting data\n",
    "    X_train, X_test, y_train, y_test = train_test_split(X, y, test_size=0.2,random_state=42, stratify=y)\n",
    "    print(y_train.value_counts())\n",
    "    \n",
    "    # oversampling\n",
    "    over = RandomOverSampler(sampling_strategy=0.2)\n",
    "    X_over, y_over = over.fit_resample(X_train, y_train)\n",
    "    print(y_over.value_counts())\n",
    "    print(f\"Oversampling: {Counter(y_over)}\")\n",
    "    \n",
    "    # undersampling\n",
    "    under = RandomUnderSampler(sampling_strategy=0.9)\n",
    "    X_under, y_under = under.fit_resample(X_over, y_over)\n",
    "    print(y_under.value_counts())\n",
    "    print(f\"Combination: {Counter(y_under)}\")\n",
    "    \n",
    "    # create Classifier for Logistic Regression\n",
    "    logreg = LogisticRegression(max_iter=99999)\n",
    "    \n",
    "    # fit training data into LR\n",
    "    logreg.fit(X_under, y_under)\n",
    "\n",
    "    # predict labels of test dataset\n",
    "    y_pred = logreg.predict(X_test)\n",
    "\n",
    "    # compute and print confusion matrix\n",
    "    print(confusion_matrix(y_test, y_pred))\n",
    "    \n",
    "    # compute and print classification report\n",
    "    print(classification_report(y_test, y_pred, target_names=['noStroke', 'stroke']))\n",
    "\n",
    "    # print recall rate (metric we are looking at)\n",
    "    recall = recall_score(y_test, y_pred)\n",
    "    print(recall)\n",
    "    print(f'Logistic Regression Combination Recall Rate: {recall*100:.2f}%')"
   ]
  },
  {
   "cell_type": "code",
   "execution_count": 44,
   "metadata": {},
   "outputs": [
    {
     "name": "stdout",
     "output_type": "stream",
     "text": [
      "0    3889\n",
      "1     199\n",
      "Name: stroke, dtype: int64\n",
      "0    3889\n",
      "1     777\n",
      "Name: stroke, dtype: int64\n",
      "Oversampling: Counter({0: 3889, 1: 777})\n",
      "0    863\n",
      "1    777\n",
      "Name: stroke, dtype: int64\n",
      "Combination: Counter({0: 863, 1: 777})\n",
      "[[743 229]\n",
      " [ 11  39]]\n",
      "              precision    recall  f1-score   support\n",
      "\n",
      "    noStroke       0.99      0.76      0.86       972\n",
      "      stroke       0.15      0.78      0.25        50\n",
      "\n",
      "    accuracy                           0.77      1022\n",
      "   macro avg       0.57      0.77      0.55      1022\n",
      "weighted avg       0.94      0.77      0.83      1022\n",
      "\n",
      "0.78\n",
      "Logistic Regression Combination Recall Rate: 78.00%\n"
     ]
    }
   ],
   "source": [
    "combi20()"
   ]
  },
  {
   "cell_type": "code",
   "execution_count": 24,
   "metadata": {},
   "outputs": [],
   "source": [
    "def combi30():\n",
    "    # splitting data\n",
    "    X_train, X_test, y_train, y_test = train_test_split(X, y, test_size=0.2,random_state=42, stratify=y)\n",
    "    print(y_train.value_counts())\n",
    "    \n",
    "    # oversampling\n",
    "    over = RandomOverSampler(sampling_strategy=0.3)\n",
    "    X_over, y_over = over.fit_resample(X_train, y_train)\n",
    "    print(y_over.value_counts())\n",
    "    print(f\"Oversampling: {Counter(y_over)}\")\n",
    "    \n",
    "    # undersampling\n",
    "    under = RandomUnderSampler(sampling_strategy=0.9)\n",
    "    X_under, y_under = under.fit_resample(X_over, y_over)\n",
    "    print(y_under.value_counts())\n",
    "    print(f\"Combination: {Counter(y_under)}\")\n",
    "    \n",
    "    # create Classifier for Logistic Regression\n",
    "    logreg = LogisticRegression(max_iter=99999)\n",
    "    \n",
    "    # fit training data into LR\n",
    "    logreg.fit(X_under, y_under)\n",
    "\n",
    "    # predict labels of test dataset\n",
    "    y_pred = logreg.predict(X_test)\n",
    "\n",
    "    # compute and print confusion matrix\n",
    "    print(confusion_matrix(y_test, y_pred))\n",
    "    \n",
    "    # compute and print classification report\n",
    "    print(classification_report(y_test, y_pred, target_names=['noStroke', 'stroke']))\n",
    "\n",
    "    # print recall rate (metric we are looking at)\n",
    "    recall = recall_score(y_test, y_pred)\n",
    "    print(recall)\n",
    "    print(f'Logistic Regression Combination Recall Rate: {recall*100:.2f}%')"
   ]
  },
  {
   "cell_type": "code",
   "execution_count": 45,
   "metadata": {},
   "outputs": [
    {
     "name": "stdout",
     "output_type": "stream",
     "text": [
      "0    3889\n",
      "1     199\n",
      "Name: stroke, dtype: int64\n",
      "0    3889\n",
      "1    1166\n",
      "Name: stroke, dtype: int64\n",
      "Oversampling: Counter({0: 3889, 1: 1166})\n",
      "0    1295\n",
      "1    1166\n",
      "Name: stroke, dtype: int64\n",
      "Combination: Counter({0: 1295, 1: 1166})\n",
      "[[745 227]\n",
      " [  8  42]]\n",
      "              precision    recall  f1-score   support\n",
      "\n",
      "    noStroke       0.99      0.77      0.86       972\n",
      "      stroke       0.16      0.84      0.26        50\n",
      "\n",
      "    accuracy                           0.77      1022\n",
      "   macro avg       0.57      0.80      0.56      1022\n",
      "weighted avg       0.95      0.77      0.83      1022\n",
      "\n",
      "0.84\n",
      "Logistic Regression Combination Recall Rate: 84.00%\n"
     ]
    }
   ],
   "source": [
    "combi30()"
   ]
  },
  {
   "cell_type": "code",
   "execution_count": 4,
   "metadata": {},
   "outputs": [],
   "source": [
    "def combi302():\n",
    "    # splitting data\n",
    "    X_train, X_test, y_train, y_test = train_test_split(X, y, test_size=0.2,random_state=42, stratify=y)\n",
    "    print(y_train.value_counts())\n",
    "    \n",
    "    # oversampling\n",
    "    over = RandomOverSampler(sampling_strategy=0.3)\n",
    "    X_over, y_over = over.fit_resample(X_train, y_train)\n",
    "    print(y_over.value_counts())\n",
    "    print(f\"Oversampling: {Counter(y_over)}\")\n",
    "    \n",
    "    # undersampling\n",
    "    under = RandomUnderSampler(sampling_strategy=0.9)\n",
    "    X_under, y_under = under.fit_resample(X_over, y_over)\n",
    "    print(y_under.value_counts())\n",
    "    print(f\"Combination: {Counter(y_under)}\")\n",
    "    \n",
    "    # create Classifier for Logistic Regression\n",
    "    logreg = LogisticRegression(max_iter=99999)\n",
    "    \n",
    "    # fit training data into LR\n",
    "    logreg.fit(X_under, y_under)\n",
    "\n",
    "    # predict labels of test dataset\n",
    "    y_pred = logreg.predict(X_test)\n",
    "\n",
    "    # compute and print confusion matrix\n",
    "    print(confusion_matrix(y_test, y_pred))\n",
    "    \n",
    "    # compute and print classification report\n",
    "    print(classification_report(y_test, y_pred, target_names=['noStroke', 'stroke']))\n",
    "\n",
    "    # print recall rate (metric we are looking at)\n",
    "    recall = recall_score(y_test, y_pred)\n",
    "    print(recall)\n",
    "    print(f'Logistic Regression Combination Recall Rate: {recall*100:.2f}%')\n",
    "    \n",
    "    # get importance\n",
    "    importance = logreg.coef_[0]\n",
    "    # summarize feature importance\n",
    "    for i,v in enumerate(importance):\n",
    "#         print('Feature: %0d, Score: %.5f' % (i+1,v))\n",
    "        print(f\"Feature: {X.columns[i]:<22} Score: {v:.5f}\")\n",
    "    # plot feature importance\n",
    "#     plt.bar([x for x in range(len(importance))], importance)\n",
    "    plt.bar(X.columns, importance)\n",
    "    plt.xticks(rotation=80)\n",
    "    plt.show()"
   ]
  },
  {
   "cell_type": "code",
   "execution_count": 8,
   "metadata": {},
   "outputs": [
    {
     "name": "stdout",
     "output_type": "stream",
     "text": [
      "0    3889\n",
      "1     199\n",
      "Name: stroke, dtype: int64\n",
      "0    3889\n",
      "1    1166\n",
      "Name: stroke, dtype: int64\n",
      "Oversampling: Counter({0: 3889, 1: 1166})\n",
      "0    1295\n",
      "1    1166\n",
      "Name: stroke, dtype: int64\n",
      "Combination: Counter({0: 1295, 1: 1166})\n",
      "[[738 234]\n",
      " [ 10  40]]\n",
      "              precision    recall  f1-score   support\n",
      "\n",
      "    noStroke       0.99      0.76      0.86       972\n",
      "      stroke       0.15      0.80      0.25        50\n",
      "\n",
      "    accuracy                           0.76      1022\n",
      "   macro avg       0.57      0.78      0.55      1022\n",
      "weighted avg       0.95      0.76      0.83      1022\n",
      "\n",
      "0.8\n",
      "Logistic Regression Combination Recall Rate: 80.00%\n",
      "Feature: age                    Score: 0.08474\n",
      "Feature: hypertension           Score: 0.59965\n",
      "Feature: heart_disease          Score: 0.19712\n",
      "Feature: avg_glucose_level      Score: 0.00420\n",
      "Feature: bmi                    Score: 0.01714\n",
      "Feature: gender_Female          Score: 0.02265\n",
      "Feature: gender_Male            Score: -0.02889\n",
      "Feature: married_No             Score: 0.08857\n",
      "Feature: married_Yes            Score: -0.09482\n",
      "Feature: work_Govt_job          Score: -0.18427\n",
      "Feature: work_Never_worked      Score: -0.13425\n",
      "Feature: work_Private           Score: -0.12755\n",
      "Feature: work_Self-employed     Score: -0.43156\n",
      "Feature: work_children          Score: 0.87139\n",
      "Feature: residence_Rural        Score: -0.03519\n",
      "Feature: residence_Urban        Score: 0.02895\n",
      "Feature: smoke_Unknown          Score: -0.06443\n",
      "Feature: smoke_formerly smoked  Score: -0.01773\n",
      "Feature: smoke_never smoked     Score: -0.16541\n",
      "Feature: smoke_smokes           Score: 0.24133\n"
     ]
    },
    {
     "data": {
      "image/png": "[encoded data removed]",
      "text/plain": [
       "<Figure size 432x288 with 1 Axes>"
      ]
     },
     "metadata": {
      "needs_background": "light"
     },
     "output_type": "display_data"
    }
   ],
   "source": [
    "combi302()"
   ]
  },
  {
   "cell_type": "code",
   "execution_count": 12,
   "metadata": {},
   "outputs": [],
   "source": [
    "def combi40():\n",
    "    # splitting data\n",
    "    X_train, X_test, y_train, y_test = train_test_split(X, y, test_size=0.2,random_state=42, stratify=y)\n",
    "    print(y_train.value_counts())\n",
    "    \n",
    "    # oversampling\n",
    "    over = RandomOverSampler(sampling_strategy=0.4)\n",
    "    X_over, y_over = over.fit_resample(X_train, y_train)\n",
    "    print(y_over.value_counts())\n",
    "    print(f\"Oversampling: {Counter(y_over)}\")\n",
    "    \n",
    "    # undersampling\n",
    "    under = RandomUnderSampler(sampling_strategy=0.9)\n",
    "    X_under, y_under = under.fit_resample(X_over, y_over)\n",
    "    print(y_under.value_counts())\n",
    "    print(f\"Combination: {Counter(y_under)}\")\n",
    "    \n",
    "    # create Classifier for Logistic Regression\n",
    "    logreg = LogisticRegression(max_iter=99999)\n",
    "    \n",
    "    # fit training data into LR\n",
    "    logreg.fit(X_under, y_under)\n",
    "\n",
    "    # predict labels of test dataset\n",
    "    y_pred = logreg.predict(X_test)\n",
    "\n",
    "    # compute and print confusion matrix\n",
    "    print(confusion_matrix(y_test, y_pred))\n",
    "    \n",
    "    # compute and print classification report\n",
    "    print(classification_report(y_test, y_pred, target_names=['noStroke', 'stroke']))\n",
    "\n",
    "    # print recall rate (metric we are looking at)\n",
    "    recall = recall_score(y_test, y_pred)\n",
    "    print(recall)\n",
    "    print(f'Logistic Regression Combination Recall Rate: {recall*100:.2f}%')"
   ]
  },
  {
   "cell_type": "code",
   "execution_count": 13,
   "metadata": {},
   "outputs": [
    {
     "name": "stdout",
     "output_type": "stream",
     "text": [
      "0    3889\n",
      "1     199\n",
      "Name: stroke, dtype: int64\n",
      "0    3889\n",
      "1    1555\n",
      "Name: stroke, dtype: int64\n",
      "Oversampling: Counter({0: 3889, 1: 1555})\n",
      "0    1727\n",
      "1    1555\n",
      "Name: stroke, dtype: int64\n",
      "Combination: Counter({0: 1727, 1: 1555})\n",
      "[[732 240]\n",
      " [ 10  40]]\n",
      "              precision    recall  f1-score   support\n",
      "\n",
      "    noStroke       0.99      0.75      0.85       972\n",
      "      stroke       0.14      0.80      0.24        50\n",
      "\n",
      "    accuracy                           0.76      1022\n",
      "   macro avg       0.56      0.78      0.55      1022\n",
      "weighted avg       0.95      0.76      0.82      1022\n",
      "\n",
      "0.8\n",
      "Logistic Regression Combination Recall Rate: 80.00%\n"
     ]
    }
   ],
   "source": [
    "combi40()"
   ]
  },
  {
   "cell_type": "code",
   "execution_count": 14,
   "metadata": {},
   "outputs": [],
   "source": [
    "def combi50():\n",
    "    # splitting data\n",
    "    X_train, X_test, y_train, y_test = train_test_split(X, y, test_size=0.2,random_state=42, stratify=y)\n",
    "    print(y_train.value_counts())\n",
    "    \n",
    "    # oversampling\n",
    "    over = RandomOverSampler(sampling_strategy=0.5)\n",
    "    X_over, y_over = over.fit_resample(X_train, y_train)\n",
    "    print(y_over.value_counts())\n",
    "    print(f\"Oversampling: {Counter(y_over)}\")\n",
    "    \n",
    "    # undersampling\n",
    "    under = RandomUnderSampler(sampling_strategy=0.8)\n",
    "    X_under, y_under = under.fit_resample(X_over, y_over)\n",
    "    print(y_under.value_counts())\n",
    "    print(f\"Combination: {Counter(y_under)}\")\n",
    "    \n",
    "    # create Classifier for Logistic Regression\n",
    "    logreg = LogisticRegression(max_iter=99999)\n",
    "    \n",
    "    # fit training data into LR\n",
    "    logreg.fit(X_under, y_under)\n",
    "\n",
    "    # predict labels of test dataset\n",
    "    y_pred = logreg.predict(X_test)\n",
    "\n",
    "    # compute and print confusion matrix\n",
    "    print(confusion_matrix(y_test, y_pred))\n",
    "    \n",
    "    # compute and print classification report\n",
    "    print(classification_report(y_test, y_pred, target_names=['noStroke', 'stroke']))\n",
    "\n",
    "    # print recall rate (metric we are looking at)\n",
    "    recall = recall_score(y_test, y_pred)\n",
    "    print(recall)\n",
    "    print(f'Logistic Regression Combination Recall Rate: {recall*100:.2f}%')"
   ]
  },
  {
   "cell_type": "code",
   "execution_count": 15,
   "metadata": {},
   "outputs": [
    {
     "name": "stdout",
     "output_type": "stream",
     "text": [
      "0    3889\n",
      "1     199\n",
      "Name: stroke, dtype: int64\n",
      "0    3889\n",
      "1    1944\n",
      "Name: stroke, dtype: int64\n",
      "Oversampling: Counter({0: 3889, 1: 1944})\n",
      "0    2430\n",
      "1    1944\n",
      "Name: stroke, dtype: int64\n",
      "Combination: Counter({0: 2430, 1: 1944})\n",
      "[[762 210]\n",
      " [ 11  39]]\n",
      "              precision    recall  f1-score   support\n",
      "\n",
      "    noStroke       0.99      0.78      0.87       972\n",
      "      stroke       0.16      0.78      0.26        50\n",
      "\n",
      "    accuracy                           0.78      1022\n",
      "   macro avg       0.57      0.78      0.57      1022\n",
      "weighted avg       0.95      0.78      0.84      1022\n",
      "\n",
      "0.78\n",
      "Logistic Regression Combination Recall Rate: 78.00%\n"
     ]
    }
   ],
   "source": [
    "combi50()"
   ]
  },
  {
   "cell_type": "code",
   "execution_count": 16,
   "metadata": {},
   "outputs": [],
   "source": [
    "def combi60():\n",
    "    # splitting data\n",
    "    X_train, X_test, y_train, y_test = train_test_split(X, y, test_size=0.2,random_state=42, stratify=y)\n",
    "    print(y_train.value_counts())\n",
    "    \n",
    "    # oversampling\n",
    "    over = RandomOverSampler(sampling_strategy=0.6)\n",
    "    X_over, y_over = over.fit_resample(X_train, y_train)\n",
    "    print(y_over.value_counts())\n",
    "    print(f\"Oversampling: {Counter(y_over)}\")\n",
    "    \n",
    "    # undersampling\n",
    "    under = RandomUnderSampler(sampling_strategy=0.9)\n",
    "    X_under, y_under = under.fit_resample(X_over, y_over)\n",
    "    print(y_under.value_counts())\n",
    "    print(f\"Combination: {Counter(y_under)}\")\n",
    "    \n",
    "    # create Classifier for Logistic Regression\n",
    "    logreg = LogisticRegression(max_iter=99999)\n",
    "    \n",
    "    # fit training data into LR\n",
    "    logreg.fit(X_under, y_under)\n",
    "\n",
    "    # predict labels of test dataset\n",
    "    y_pred = logreg.predict(X_test)\n",
    "\n",
    "    # compute and print confusion matrix\n",
    "    print(confusion_matrix(y_test, y_pred))\n",
    "    \n",
    "    # compute and print classification report\n",
    "    print(classification_report(y_test, y_pred, target_names=['noStroke', 'stroke']))\n",
    "\n",
    "    # print recall rate (metric we are looking at)\n",
    "    recall = recall_score(y_test, y_pred)\n",
    "    print(recall)\n",
    "    print(f'Logistic Regression Combination Recall Rate: {recall*100:.2f}%')"
   ]
  },
  {
   "cell_type": "code",
   "execution_count": 19,
   "metadata": {},
   "outputs": [
    {
     "name": "stdout",
     "output_type": "stream",
     "text": [
      "0    3889\n",
      "1     199\n",
      "Name: stroke, dtype: int64\n",
      "0    3889\n",
      "1    2333\n",
      "Name: stroke, dtype: int64\n",
      "Oversampling: Counter({0: 3889, 1: 2333})\n",
      "0    2592\n",
      "1    2333\n",
      "Name: stroke, dtype: int64\n",
      "Combination: Counter({0: 2592, 1: 2333})\n",
      "[[741 231]\n",
      " [ 10  40]]\n",
      "              precision    recall  f1-score   support\n",
      "\n",
      "    noStroke       0.99      0.76      0.86       972\n",
      "      stroke       0.15      0.80      0.25        50\n",
      "\n",
      "    accuracy                           0.76      1022\n",
      "   macro avg       0.57      0.78      0.55      1022\n",
      "weighted avg       0.95      0.76      0.83      1022\n",
      "\n",
      "0.8\n",
      "Logistic Regression Combination Recall Rate: 80.00%\n"
     ]
    }
   ],
   "source": [
    "combi60()"
   ]
  },
  {
   "cell_type": "code",
   "execution_count": 20,
   "metadata": {},
   "outputs": [],
   "source": [
    "def combi70():\n",
    "    # splitting data\n",
    "    X_train, X_test, y_train, y_test = train_test_split(X, y, test_size=0.2,random_state=42, stratify=y)\n",
    "    print(y_train.value_counts())\n",
    "    \n",
    "    # oversampling\n",
    "    over = RandomOverSampler(sampling_strategy=0.7)\n",
    "    X_over, y_over = over.fit_resample(X_train, y_train)\n",
    "    print(y_over.value_counts())\n",
    "    print(f\"Oversampling: {Counter(y_over)}\")\n",
    "    \n",
    "    # undersampling\n",
    "    under = RandomUnderSampler(sampling_strategy=0.9)\n",
    "    X_under, y_under = under.fit_resample(X_over, y_over)\n",
    "    print(y_under.value_counts())\n",
    "    print(f\"Combination: {Counter(y_under)}\")\n",
    "    \n",
    "    \n",
    "    \n",
    "    # create Classifier for Logistic Regression\n",
    "    logreg = LogisticRegression(max_iter=99999)\n",
    "    \n",
    "    # fit training data into LR\n",
    "    logreg.fit(X_under, y_under)\n",
    "\n",
    "    # predict labels of test dataset\n",
    "    y_pred = logreg.predict(X_test)\n",
    "\n",
    "    # compute and print confusion matrix\n",
    "    print(confusion_matrix(y_test, y_pred))\n",
    "    \n",
    "    # compute and print classification report\n",
    "    print(classification_report(y_test, y_pred, target_names=['noStroke', 'stroke']))\n",
    "\n",
    "    # print recall rate (metric we are looking at)\n",
    "    recall = recall_score(y_test, y_pred)\n",
    "    print(recall)\n",
    "    print(f'Logistic Regression Combination Recall Rate: {recall*100:.2f}%')"
   ]
  },
  {
   "cell_type": "code",
   "execution_count": 21,
   "metadata": {},
   "outputs": [
    {
     "name": "stdout",
     "output_type": "stream",
     "text": [
      "0    3889\n",
      "1     199\n",
      "Name: stroke, dtype: int64\n",
      "0    3889\n",
      "1    2722\n",
      "Name: stroke, dtype: int64\n",
      "Oversampling: Counter({0: 3889, 1: 2722})\n",
      "0    3024\n",
      "1    2722\n",
      "Name: stroke, dtype: int64\n",
      "Combination: Counter({0: 3024, 1: 2722})\n",
      "[[740 232]\n",
      " [ 10  40]]\n",
      "              precision    recall  f1-score   support\n",
      "\n",
      "    noStroke       0.99      0.76      0.86       972\n",
      "      stroke       0.15      0.80      0.25        50\n",
      "\n",
      "    accuracy                           0.76      1022\n",
      "   macro avg       0.57      0.78      0.55      1022\n",
      "weighted avg       0.95      0.76      0.83      1022\n",
      "\n",
      "0.8\n",
      "Logistic Regression Combination Recall Rate: 80.00%\n"
     ]
    }
   ],
   "source": [
    "combi70()"
   ]
  },
  {
   "cell_type": "code",
   "execution_count": 22,
   "metadata": {},
   "outputs": [],
   "source": [
    "def combi80():\n",
    "    # splitting data\n",
    "    X_train, X_test, y_train, y_test = train_test_split(X, y, test_size=0.2,random_state=42, stratify=y)\n",
    "    print(y_train.value_counts())\n",
    "    print(y_test.value_counts())\n",
    "    \n",
    "    # oversampling training data 80%\n",
    "    over = RandomOverSampler(sampling_strategy=0.8)\n",
    "    X_over, y_over = over.fit_resample(X_train, y_train)\n",
    "    print(y_over.value_counts())\n",
    "    print(f\"Oversampling: {Counter(y_over)}\")\n",
    "    \n",
    "    # undersampling ovesampled training data 90%\n",
    "    under = RandomUnderSampler(sampling_strategy=0.9)\n",
    "    X_under, y_under = under.fit_resample(X_over, y_over)\n",
    "    print(y_under.value_counts())\n",
    "    print(f\"Combination: {Counter(y_under)}\")\n",
    "    \n",
    "    # create Classifier for Logistic Regression\n",
    "    logreg = LogisticRegression(max_iter=99999)\n",
    "    \n",
    "    # fit training data into LR\n",
    "    logreg.fit(X_under, y_under)\n",
    "\n",
    "    # predict labels of test dataset\n",
    "    y_pred = logreg.predict(X_test)\n",
    "\n",
    "    # compute and print confusion matrix\n",
    "    print(confusion_matrix(y_test, y_pred))\n",
    "    \n",
    "    # compute and print classification report\n",
    "    print(classification_report(y_test, y_pred, target_names=['noStroke', 'stroke']))\n",
    "\n",
    "    # print recall rate (metric we are looking at)\n",
    "    recall = recall_score(y_test, y_pred)\n",
    "    print(recall)\n",
    "    print(f'Logistic Regression Combination Recall Rate: {recall*100:.2f}%')"
   ]
  },
  {
   "cell_type": "code",
   "execution_count": 23,
   "metadata": {},
   "outputs": [
    {
     "name": "stdout",
     "output_type": "stream",
     "text": [
      "0    3889\n",
      "1     199\n",
      "Name: stroke, dtype: int64\n",
      "0    972\n",
      "1     50\n",
      "Name: stroke, dtype: int64\n",
      "0    3889\n",
      "1    3111\n",
      "Name: stroke, dtype: int64\n",
      "Oversampling: Counter({0: 3889, 1: 3111})\n",
      "0    3456\n",
      "1    3111\n",
      "Name: stroke, dtype: int64\n",
      "Combination: Counter({0: 3456, 1: 3111})\n",
      "[[738 234]\n",
      " [ 10  40]]\n",
      "              precision    recall  f1-score   support\n",
      "\n",
      "    noStroke       0.99      0.76      0.86       972\n",
      "      stroke       0.15      0.80      0.25        50\n",
      "\n",
      "    accuracy                           0.76      1022\n",
      "   macro avg       0.57      0.78      0.55      1022\n",
      "weighted avg       0.95      0.76      0.83      1022\n",
      "\n",
      "0.8\n",
      "Logistic Regression Combination Recall Rate: 80.00%\n"
     ]
    }
   ],
   "source": [
    "combi80()"
   ]
  },
  {
   "cell_type": "raw",
   "metadata": {},
   "source": []
  },
  {
   "cell_type": "raw",
   "metadata": {},
   "source": []
  },
  {
   "cell_type": "markdown",
   "metadata": {},
   "source": [
    "### Ignore below"
   ]
  },
  {
   "cell_type": "raw",
   "metadata": {},
   "source": [
    "def combi50():\n",
    "    # splitting data\n",
    "    X_train, X_test, y_train, y_test = train_test_split(X, y, test_size=0.2,random_state=42, stratify=y)\n",
    "    \n",
    "    # oversampling\n",
    "    over = RandomOverSampler(sampling_strategy='minority')\n",
    "    X_over, y_over = over.fit_resample(X_train, y_train)\n",
    "    \n",
    "    # undersampling\n",
    "    under = RandomUnderSampler(sampling_strategy='majority')\n",
    "    X_under, y_under = under.fit_resample(X_train, y_train)\n",
    "    \n",
    "    # define dataset\n",
    "    # default weights: balanced (50-50)\n",
    "    X, y = make_classification(n_samples=10000, random_state=42)\n",
    "    # summarize class distribution\n",
    "    print(Counter(y))\n",
    "\n",
    "    # train-test split: 80-20\n",
    "    X_train, X_test, y_train, y_test = train_test_split(X, y, test_size=0.2,random_state=42, stratify=y)\n",
    "    print(f\"Train: {Counter(y_train)}\")\n",
    "    print(f\"Test: {Counter(y_test)}\")\n",
    "\n",
    "    # create Classifier for Logistic Regression\n",
    "    logreg = LogisticRegression(max_iter=99999)\n",
    "    \n",
    "    # fit training data into LR\n",
    "    logreg.fit(X_train, y_train)\n",
    "\n",
    "    # predict labels of test dataset\n",
    "    y_pred = logreg.predict(X_test)\n",
    "\n",
    "    # compute and print confusion matrix\n",
    "    print(confusion_matrix(y_test, y_pred))\n",
    "    \n",
    "    # compute and print classification report\n",
    "    print(classification_report(y_test, y_pred, target_names=['noStroke', 'stroke']))\n",
    "\n",
    "    # print recall rate (metric we are looking at)\n",
    "    recall = recall_score(y_test, y_pred)\n",
    "    print(recall)\n",
    "    print(f'Logistic Regression Combination Recall Rate: {recall*100:.2f}%')"
   ]
  },
  {
   "cell_type": "raw",
   "metadata": {},
   "source": []
  },
  {
   "cell_type": "code",
   "execution_count": 200,
   "metadata": {},
   "outputs": [
    {
     "name": "stdout",
     "output_type": "stream",
     "text": [
      "Counter({0: 11054, 1: 166})\n",
      "Counter({0: 8843, 1: 8843})\n",
      "Counter({0: 133, 1: 133})\n",
      "Pipeline(steps=[('o', RandomOverSampler(sampling_strategy='minority')),\n",
      "                ('u', RandomUnderSampler(sampling_strategy='majority')),\n",
      "                ('lr', LogisticRegression())])\n",
      "0.7785204991087344\n"
     ]
    }
   ],
   "source": [
    "# define dataset\n",
    "X, y = make_classification(n_samples=11220, weights=[0.99], random_state=42)\n",
    "# summarize class distribution\n",
    "print(Counter(y))\n",
    "\n",
    "X_train, X_test, y_train, y_test = train_test_split(X, y, test_size=0.2,random_state=42, stratify=y)\n",
    "\n",
    "# define oversampling strategy\n",
    "over = RandomOverSampler(sampling_strategy='minority')\n",
    "# fit and apply the transform\n",
    "X, y = over.fit_resample(X_train, y_train)\n",
    "# summarize class distribution\n",
    "print(Counter(y))\n",
    "\n",
    "# define undersampling strategy\n",
    "under = RandomUnderSampler(sampling_strategy='majority')\n",
    "# fit and apply the transform\n",
    "X, y = under.fit_resample(X_train, y_train)\n",
    "# summarize class distribution\n",
    "print(Counter(y))\n",
    "\n",
    "steps = [('o', over), ('u', under), ('lr', LogisticRegression())]\n",
    "pipeline = Pipeline(steps=steps)\n",
    "print(pipeline.fit(X_train, y_train))\n",
    "print(pipeline.score(X_test, y_test))"
   ]
  },
  {
   "cell_type": "raw",
   "metadata": {},
   "source": [
    "# define pipeline\n",
    "over = RandomOverSampler(sampling_strategy=0.5)\n",
    "under = RandomUnderSampler(sampling_strategy=0.5)\n",
    "steps = [('o', over), ('u', under), ('lr', LogisticRegression())]\n",
    "pipeline = Pipeline(steps=steps)"
   ]
  },
  {
   "cell_type": "code",
   "execution_count": 201,
   "metadata": {},
   "outputs": [
    {
     "name": "stdout",
     "output_type": "stream",
     "text": [
      "0.7692307692307693\n",
      "0.8461538461538461\n",
      "0.46153846153846156\n",
      "0.7857142857142857\n",
      "0.8571428571428571\n",
      "0.7142857142857143\n",
      "0.5384615384615384\n",
      "0.7692307692307693\n",
      "0.8461538461538461\n",
      "0.6153846153846154\n",
      "Recall Rate: 72.03%\n"
     ]
    }
   ],
   "source": [
    "from numpy import sum\n",
    "# evaluate pipeline\n",
    "scores = cross_val_score(pipeline, X, y, scoring='recall', cv=10, n_jobs=-1)\n",
    "# score = mean(scores)\n",
    "for s in scores:\n",
    "    print(s)\n",
    "# print(sum(scores))\n",
    "print(f'Recall Rate: {mean(scores)*100:.2f}%')"
   ]
  },
  {
   "cell_type": "code",
   "execution_count": 136,
   "metadata": {},
   "outputs": [
    {
     "data": {
      "text/plain": [
       "0.051224027977782347"
      ]
     },
     "execution_count": 136,
     "metadata": {},
     "output_type": "execute_result"
    }
   ],
   "source": [
    "249/4861"
   ]
  },
  {
   "cell_type": "code",
   "execution_count": null,
   "metadata": {},
   "outputs": [],
   "source": []
  }
 ],
 "metadata": {
  "kernelspec": {
   "display_name": "Python 3",
   "language": "python",
   "name": "python3"
  },
  "language_info": {
   "codemirror_mode": {
    "name": "ipython",
    "version": 3
   },
   "file_extension": ".py",
   "mimetype": "text/x-python",
   "name": "python",
   "nbconvert_exporter": "python",
   "pygments_lexer": "ipython3",
   "version": "3.8.5"
  }
 },
 "nbformat": 4,
 "nbformat_minor": 4
}
